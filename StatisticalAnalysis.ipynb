{
  "nbformat": 4,
  "nbformat_minor": 0,
  "metadata": {
    "colab": {
      "provenance": [],
      "include_colab_link": true
    },
    "kernelspec": {
      "name": "python3",
      "display_name": "Python 3"
    },
    "language_info": {
      "name": "python"
    }
  },
  "cells": [
    {
      "cell_type": "markdown",
      "metadata": {
        "id": "view-in-github",
        "colab_type": "text"
      },
      "source": [
        "<a href=\"https://colab.research.google.com/github/isha027/Statistic-Analysis/blob/main/StatisticalAnalysis.ipynb\" target=\"_parent\"><img src=\"https://colab.research.google.com/assets/colab-badge.svg\" alt=\"Open In Colab\"/></a>"
      ]
    },
    {
      "cell_type": "markdown",
      "source": [
        "The population data is, in the csv format, with a single column – “Movie Length” (the movie lengths are in minutes); this is in the repository.\n",
        "\n",
        "(1) Found the mean and variance of the population data and also, plotted its density plot.\n",
        "\n",
        "(2) n = 100 random samples of size 50 from the population dataset were generated.\n",
        "\n",
        "Sampling scheme: Simple random sampling with replacement\n",
        "\n",
        "(3) Sample mean of each sample was calculated. 100 sample means\n",
        "were obtained.\n",
        "\n",
        "(4) Histogram of these 100 sample means were plotted.\n",
        "\n",
        "(5) Mean and standard deviation of 100 sample means were\n",
        "calculated.\n",
        "\n",
        "(6) CLT can be applied, hence hypothesis testing was performed using z-test, as n >= 30."
      ],
      "metadata": {
        "id": "lDXvlN1wojfZ"
      }
    },
    {
      "cell_type": "code",
      "execution_count": null,
      "metadata": {
        "id": "dImxIgDxYRoP"
      },
      "outputs": [],
      "source": [
        "import numpy as np\n",
        "import matplotlib.pyplot as plt\n",
        "import pandas as pd\n",
        "import io\n",
        "from google.colab import files"
      ]
    },
    {
      "cell_type": "code",
      "source": [
        "uploaded = files.upload()\n",
        "try:\n",
        "    Big_data = pd.read_csv(io.BytesIO(uploaded['teststat(2).csv'])) # population data\n",
        "except KeyError:\n",
        "    pass"
      ],
      "metadata": {
        "colab": {
          "base_uri": "https://localhost:8080/",
          "height": 73
        },
        "id": "OTkGWc-AY-TC",
        "outputId": "d6515bb5-01dc-4fde-e765-a8dc132cd86d"
      },
      "execution_count": null,
      "outputs": [
        {
          "output_type": "display_data",
          "data": {
            "text/plain": [
              "<IPython.core.display.HTML object>"
            ],
            "text/html": [
              "\n",
              "     <input type=\"file\" id=\"files-c0c1bc91-1862-4529-bf21-b4978404d385\" name=\"files[]\" multiple disabled\n",
              "        style=\"border:none\" />\n",
              "     <output id=\"result-c0c1bc91-1862-4529-bf21-b4978404d385\">\n",
              "      Upload widget is only available when the cell has been executed in the\n",
              "      current browser session. Please rerun this cell to enable.\n",
              "      </output>\n",
              "      <script>// Copyright 2017 Google LLC\n",
              "//\n",
              "// Licensed under the Apache License, Version 2.0 (the \"License\");\n",
              "// you may not use this file except in compliance with the License.\n",
              "// You may obtain a copy of the License at\n",
              "//\n",
              "//      http://www.apache.org/licenses/LICENSE-2.0\n",
              "//\n",
              "// Unless required by applicable law or agreed to in writing, software\n",
              "// distributed under the License is distributed on an \"AS IS\" BASIS,\n",
              "// WITHOUT WARRANTIES OR CONDITIONS OF ANY KIND, either express or implied.\n",
              "// See the License for the specific language governing permissions and\n",
              "// limitations under the License.\n",
              "\n",
              "/**\n",
              " * @fileoverview Helpers for google.colab Python module.\n",
              " */\n",
              "(function(scope) {\n",
              "function span(text, styleAttributes = {}) {\n",
              "  const element = document.createElement('span');\n",
              "  element.textContent = text;\n",
              "  for (const key of Object.keys(styleAttributes)) {\n",
              "    element.style[key] = styleAttributes[key];\n",
              "  }\n",
              "  return element;\n",
              "}\n",
              "\n",
              "// Max number of bytes which will be uploaded at a time.\n",
              "const MAX_PAYLOAD_SIZE = 100 * 1024;\n",
              "\n",
              "function _uploadFiles(inputId, outputId) {\n",
              "  const steps = uploadFilesStep(inputId, outputId);\n",
              "  const outputElement = document.getElementById(outputId);\n",
              "  // Cache steps on the outputElement to make it available for the next call\n",
              "  // to uploadFilesContinue from Python.\n",
              "  outputElement.steps = steps;\n",
              "\n",
              "  return _uploadFilesContinue(outputId);\n",
              "}\n",
              "\n",
              "// This is roughly an async generator (not supported in the browser yet),\n",
              "// where there are multiple asynchronous steps and the Python side is going\n",
              "// to poll for completion of each step.\n",
              "// This uses a Promise to block the python side on completion of each step,\n",
              "// then passes the result of the previous step as the input to the next step.\n",
              "function _uploadFilesContinue(outputId) {\n",
              "  const outputElement = document.getElementById(outputId);\n",
              "  const steps = outputElement.steps;\n",
              "\n",
              "  const next = steps.next(outputElement.lastPromiseValue);\n",
              "  return Promise.resolve(next.value.promise).then((value) => {\n",
              "    // Cache the last promise value to make it available to the next\n",
              "    // step of the generator.\n",
              "    outputElement.lastPromiseValue = value;\n",
              "    return next.value.response;\n",
              "  });\n",
              "}\n",
              "\n",
              "/**\n",
              " * Generator function which is called between each async step of the upload\n",
              " * process.\n",
              " * @param {string} inputId Element ID of the input file picker element.\n",
              " * @param {string} outputId Element ID of the output display.\n",
              " * @return {!Iterable<!Object>} Iterable of next steps.\n",
              " */\n",
              "function* uploadFilesStep(inputId, outputId) {\n",
              "  const inputElement = document.getElementById(inputId);\n",
              "  inputElement.disabled = false;\n",
              "\n",
              "  const outputElement = document.getElementById(outputId);\n",
              "  outputElement.innerHTML = '';\n",
              "\n",
              "  const pickedPromise = new Promise((resolve) => {\n",
              "    inputElement.addEventListener('change', (e) => {\n",
              "      resolve(e.target.files);\n",
              "    });\n",
              "  });\n",
              "\n",
              "  const cancel = document.createElement('button');\n",
              "  inputElement.parentElement.appendChild(cancel);\n",
              "  cancel.textContent = 'Cancel upload';\n",
              "  const cancelPromise = new Promise((resolve) => {\n",
              "    cancel.onclick = () => {\n",
              "      resolve(null);\n",
              "    };\n",
              "  });\n",
              "\n",
              "  // Wait for the user to pick the files.\n",
              "  const files = yield {\n",
              "    promise: Promise.race([pickedPromise, cancelPromise]),\n",
              "    response: {\n",
              "      action: 'starting',\n",
              "    }\n",
              "  };\n",
              "\n",
              "  cancel.remove();\n",
              "\n",
              "  // Disable the input element since further picks are not allowed.\n",
              "  inputElement.disabled = true;\n",
              "\n",
              "  if (!files) {\n",
              "    return {\n",
              "      response: {\n",
              "        action: 'complete',\n",
              "      }\n",
              "    };\n",
              "  }\n",
              "\n",
              "  for (const file of files) {\n",
              "    const li = document.createElement('li');\n",
              "    li.append(span(file.name, {fontWeight: 'bold'}));\n",
              "    li.append(span(\n",
              "        `(${file.type || 'n/a'}) - ${file.size} bytes, ` +\n",
              "        `last modified: ${\n",
              "            file.lastModifiedDate ? file.lastModifiedDate.toLocaleDateString() :\n",
              "                                    'n/a'} - `));\n",
              "    const percent = span('0% done');\n",
              "    li.appendChild(percent);\n",
              "\n",
              "    outputElement.appendChild(li);\n",
              "\n",
              "    const fileDataPromise = new Promise((resolve) => {\n",
              "      const reader = new FileReader();\n",
              "      reader.onload = (e) => {\n",
              "        resolve(e.target.result);\n",
              "      };\n",
              "      reader.readAsArrayBuffer(file);\n",
              "    });\n",
              "    // Wait for the data to be ready.\n",
              "    let fileData = yield {\n",
              "      promise: fileDataPromise,\n",
              "      response: {\n",
              "        action: 'continue',\n",
              "      }\n",
              "    };\n",
              "\n",
              "    // Use a chunked sending to avoid message size limits. See b/62115660.\n",
              "    let position = 0;\n",
              "    do {\n",
              "      const length = Math.min(fileData.byteLength - position, MAX_PAYLOAD_SIZE);\n",
              "      const chunk = new Uint8Array(fileData, position, length);\n",
              "      position += length;\n",
              "\n",
              "      const base64 = btoa(String.fromCharCode.apply(null, chunk));\n",
              "      yield {\n",
              "        response: {\n",
              "          action: 'append',\n",
              "          file: file.name,\n",
              "          data: base64,\n",
              "        },\n",
              "      };\n",
              "\n",
              "      let percentDone = fileData.byteLength === 0 ?\n",
              "          100 :\n",
              "          Math.round((position / fileData.byteLength) * 100);\n",
              "      percent.textContent = `${percentDone}% done`;\n",
              "\n",
              "    } while (position < fileData.byteLength);\n",
              "  }\n",
              "\n",
              "  // All done.\n",
              "  yield {\n",
              "    response: {\n",
              "      action: 'complete',\n",
              "    }\n",
              "  };\n",
              "}\n",
              "\n",
              "scope.google = scope.google || {};\n",
              "scope.google.colab = scope.google.colab || {};\n",
              "scope.google.colab._files = {\n",
              "  _uploadFiles,\n",
              "  _uploadFilesContinue,\n",
              "};\n",
              "})(self);\n",
              "</script> "
            ]
          },
          "metadata": {}
        },
        {
          "output_type": "stream",
          "name": "stdout",
          "text": [
            "Saving teststat(2).csv to teststat(2) (1).csv\n"
          ]
        }
      ]
    },
    {
      "cell_type": "code",
      "source": [
        "Big_data.head(210)"
      ],
      "metadata": {
        "id": "uNfp4g1ZYbyO",
        "colab": {
          "base_uri": "https://localhost:8080/",
          "height": 423
        },
        "outputId": "67ed571a-02d0-4273-e4a9-16c1105d353a"
      },
      "execution_count": null,
      "outputs": [
        {
          "output_type": "execute_result",
          "data": {
            "text/plain": [
              "     Movie Length\n",
              "0             169\n",
              "1             154\n",
              "2             169\n",
              "3             152\n",
              "4             176\n",
              "..            ...\n",
              "205            92\n",
              "206           140\n",
              "207           149\n",
              "208           104\n",
              "209           171\n",
              "\n",
              "[210 rows x 1 columns]"
            ],
            "text/html": [
              "\n",
              "\n",
              "  <div id=\"df-5e4798cc-f092-4c35-b51b-c8a58cb98c59\">\n",
              "    <div class=\"colab-df-container\">\n",
              "      <div>\n",
              "<style scoped>\n",
              "    .dataframe tbody tr th:only-of-type {\n",
              "        vertical-align: middle;\n",
              "    }\n",
              "\n",
              "    .dataframe tbody tr th {\n",
              "        vertical-align: top;\n",
              "    }\n",
              "\n",
              "    .dataframe thead th {\n",
              "        text-align: right;\n",
              "    }\n",
              "</style>\n",
              "<table border=\"1\" class=\"dataframe\">\n",
              "  <thead>\n",
              "    <tr style=\"text-align: right;\">\n",
              "      <th></th>\n",
              "      <th>Movie Length</th>\n",
              "    </tr>\n",
              "  </thead>\n",
              "  <tbody>\n",
              "    <tr>\n",
              "      <th>0</th>\n",
              "      <td>169</td>\n",
              "    </tr>\n",
              "    <tr>\n",
              "      <th>1</th>\n",
              "      <td>154</td>\n",
              "    </tr>\n",
              "    <tr>\n",
              "      <th>2</th>\n",
              "      <td>169</td>\n",
              "    </tr>\n",
              "    <tr>\n",
              "      <th>3</th>\n",
              "      <td>152</td>\n",
              "    </tr>\n",
              "    <tr>\n",
              "      <th>4</th>\n",
              "      <td>176</td>\n",
              "    </tr>\n",
              "    <tr>\n",
              "      <th>...</th>\n",
              "      <td>...</td>\n",
              "    </tr>\n",
              "    <tr>\n",
              "      <th>205</th>\n",
              "      <td>92</td>\n",
              "    </tr>\n",
              "    <tr>\n",
              "      <th>206</th>\n",
              "      <td>140</td>\n",
              "    </tr>\n",
              "    <tr>\n",
              "      <th>207</th>\n",
              "      <td>149</td>\n",
              "    </tr>\n",
              "    <tr>\n",
              "      <th>208</th>\n",
              "      <td>104</td>\n",
              "    </tr>\n",
              "    <tr>\n",
              "      <th>209</th>\n",
              "      <td>171</td>\n",
              "    </tr>\n",
              "  </tbody>\n",
              "</table>\n",
              "<p>210 rows × 1 columns</p>\n",
              "</div>\n",
              "      <button class=\"colab-df-convert\" onclick=\"convertToInteractive('df-5e4798cc-f092-4c35-b51b-c8a58cb98c59')\"\n",
              "              title=\"Convert this dataframe to an interactive table.\"\n",
              "              style=\"display:none;\">\n",
              "\n",
              "  <svg xmlns=\"http://www.w3.org/2000/svg\" height=\"24px\"viewBox=\"0 0 24 24\"\n",
              "       width=\"24px\">\n",
              "    <path d=\"M0 0h24v24H0V0z\" fill=\"none\"/>\n",
              "    <path d=\"M18.56 5.44l.94 2.06.94-2.06 2.06-.94-2.06-.94-.94-2.06-.94 2.06-2.06.94zm-11 1L8.5 8.5l.94-2.06 2.06-.94-2.06-.94L8.5 2.5l-.94 2.06-2.06.94zm10 10l.94 2.06.94-2.06 2.06-.94-2.06-.94-.94-2.06-.94 2.06-2.06.94z\"/><path d=\"M17.41 7.96l-1.37-1.37c-.4-.4-.92-.59-1.43-.59-.52 0-1.04.2-1.43.59L10.3 9.45l-7.72 7.72c-.78.78-.78 2.05 0 2.83L4 21.41c.39.39.9.59 1.41.59.51 0 1.02-.2 1.41-.59l7.78-7.78 2.81-2.81c.8-.78.8-2.07 0-2.86zM5.41 20L4 18.59l7.72-7.72 1.47 1.35L5.41 20z\"/>\n",
              "  </svg>\n",
              "      </button>\n",
              "\n",
              "\n",
              "\n",
              "    <div id=\"df-cac85e50-b74c-450c-af1c-d309563bc2e0\">\n",
              "      <button class=\"colab-df-quickchart\" onclick=\"quickchart('df-cac85e50-b74c-450c-af1c-d309563bc2e0')\"\n",
              "              title=\"Suggest charts.\"\n",
              "              style=\"display:none;\">\n",
              "\n",
              "<svg xmlns=\"http://www.w3.org/2000/svg\" height=\"24px\"viewBox=\"0 0 24 24\"\n",
              "     width=\"24px\">\n",
              "    <g>\n",
              "        <path d=\"M19 3H5c-1.1 0-2 .9-2 2v14c0 1.1.9 2 2 2h14c1.1 0 2-.9 2-2V5c0-1.1-.9-2-2-2zM9 17H7v-7h2v7zm4 0h-2V7h2v10zm4 0h-2v-4h2v4z\"/>\n",
              "    </g>\n",
              "</svg>\n",
              "      </button>\n",
              "    </div>\n",
              "\n",
              "<style>\n",
              "  .colab-df-quickchart {\n",
              "    background-color: #E8F0FE;\n",
              "    border: none;\n",
              "    border-radius: 50%;\n",
              "    cursor: pointer;\n",
              "    display: none;\n",
              "    fill: #1967D2;\n",
              "    height: 32px;\n",
              "    padding: 0 0 0 0;\n",
              "    width: 32px;\n",
              "  }\n",
              "\n",
              "  .colab-df-quickchart:hover {\n",
              "    background-color: #E2EBFA;\n",
              "    box-shadow: 0px 1px 2px rgba(60, 64, 67, 0.3), 0px 1px 3px 1px rgba(60, 64, 67, 0.15);\n",
              "    fill: #174EA6;\n",
              "  }\n",
              "\n",
              "  [theme=dark] .colab-df-quickchart {\n",
              "    background-color: #3B4455;\n",
              "    fill: #D2E3FC;\n",
              "  }\n",
              "\n",
              "  [theme=dark] .colab-df-quickchart:hover {\n",
              "    background-color: #434B5C;\n",
              "    box-shadow: 0px 1px 3px 1px rgba(0, 0, 0, 0.15);\n",
              "    filter: drop-shadow(0px 1px 2px rgba(0, 0, 0, 0.3));\n",
              "    fill: #FFFFFF;\n",
              "  }\n",
              "</style>\n",
              "\n",
              "    <script>\n",
              "      async function quickchart(key) {\n",
              "        const containerElement = document.querySelector('#' + key);\n",
              "        const charts = await google.colab.kernel.invokeFunction(\n",
              "            'suggestCharts', [key], {});\n",
              "      }\n",
              "    </script>\n",
              "\n",
              "      <script>\n",
              "\n",
              "function displayQuickchartButton(domScope) {\n",
              "  let quickchartButtonEl =\n",
              "    domScope.querySelector('#df-cac85e50-b74c-450c-af1c-d309563bc2e0 button.colab-df-quickchart');\n",
              "  quickchartButtonEl.style.display =\n",
              "    google.colab.kernel.accessAllowed ? 'block' : 'none';\n",
              "}\n",
              "\n",
              "        displayQuickchartButton(document);\n",
              "      </script>\n",
              "      <style>\n",
              "    .colab-df-container {\n",
              "      display:flex;\n",
              "      flex-wrap:wrap;\n",
              "      gap: 12px;\n",
              "    }\n",
              "\n",
              "    .colab-df-convert {\n",
              "      background-color: #E8F0FE;\n",
              "      border: none;\n",
              "      border-radius: 50%;\n",
              "      cursor: pointer;\n",
              "      display: none;\n",
              "      fill: #1967D2;\n",
              "      height: 32px;\n",
              "      padding: 0 0 0 0;\n",
              "      width: 32px;\n",
              "    }\n",
              "\n",
              "    .colab-df-convert:hover {\n",
              "      background-color: #E2EBFA;\n",
              "      box-shadow: 0px 1px 2px rgba(60, 64, 67, 0.3), 0px 1px 3px 1px rgba(60, 64, 67, 0.15);\n",
              "      fill: #174EA6;\n",
              "    }\n",
              "\n",
              "    [theme=dark] .colab-df-convert {\n",
              "      background-color: #3B4455;\n",
              "      fill: #D2E3FC;\n",
              "    }\n",
              "\n",
              "    [theme=dark] .colab-df-convert:hover {\n",
              "      background-color: #434B5C;\n",
              "      box-shadow: 0px 1px 3px 1px rgba(0, 0, 0, 0.15);\n",
              "      filter: drop-shadow(0px 1px 2px rgba(0, 0, 0, 0.3));\n",
              "      fill: #FFFFFF;\n",
              "    }\n",
              "  </style>\n",
              "\n",
              "      <script>\n",
              "        const buttonEl =\n",
              "          document.querySelector('#df-5e4798cc-f092-4c35-b51b-c8a58cb98c59 button.colab-df-convert');\n",
              "        buttonEl.style.display =\n",
              "          google.colab.kernel.accessAllowed ? 'block' : 'none';\n",
              "\n",
              "        async function convertToInteractive(key) {\n",
              "          const element = document.querySelector('#df-5e4798cc-f092-4c35-b51b-c8a58cb98c59');\n",
              "          const dataTable =\n",
              "            await google.colab.kernel.invokeFunction('convertToInteractive',\n",
              "                                                     [key], {});\n",
              "          if (!dataTable) return;\n",
              "\n",
              "          const docLinkHtml = 'Like what you see? Visit the ' +\n",
              "            '<a target=\"_blank\" href=https://colab.research.google.com/notebooks/data_table.ipynb>data table notebook</a>'\n",
              "            + ' to learn more about interactive tables.';\n",
              "          element.innerHTML = '';\n",
              "          dataTable['output_type'] = 'display_data';\n",
              "          await google.colab.output.renderOutput(dataTable, element);\n",
              "          const docLink = document.createElement('div');\n",
              "          docLink.innerHTML = docLinkHtml;\n",
              "          element.appendChild(docLink);\n",
              "        }\n",
              "      </script>\n",
              "    </div>\n",
              "  </div>\n"
            ]
          },
          "metadata": {},
          "execution_count": 28
        }
      ]
    },
    {
      "cell_type": "code",
      "source": [
        "# Calculating mean (mu) and variance ((sigma)^2) from population data (Big_data):\n",
        "population = np.array(Big_data['Movie Length'])\n",
        "mu = population.mean(); # (μ)\n",
        "var = population.var();\n",
        "print(\"Population Mean:\" , mu) # mu\n",
        "print(\"Population Size :\" , len(population))\n",
        "print(\"Population Variance : \", var) #(sigma)^2\n",
        "print(\"Population Standard deviation :\", population.std())"
      ],
      "metadata": {
        "id": "WGxWUyZKYhHR",
        "colab": {
          "base_uri": "https://localhost:8080/"
        },
        "outputId": "b15ebd5e-65fd-433c-f318-54c8d2d9dcbc"
      },
      "execution_count": null,
      "outputs": [
        {
          "output_type": "stream",
          "name": "stdout",
          "text": [
            "Population Mean: 149.5047619047619\n",
            "Population Size : 210\n",
            "Population Variance :  1128.3166439909298\n",
            "Population Standard deviation : 33.590424885537395\n"
          ]
        }
      ]
    },
    {
      "cell_type": "code",
      "source": [
        "import seaborn as sns\n",
        "plt.figure(figsize=(8,5), dpi= 70)\n",
        "sns.kdeplot(population, color=\"dodgerblue\")\n",
        "plt.title('Plot of random variable (movie length)', fontsize=10)\n",
        "plt.show();\n",
        "#Density plot is used to show probability density function of a random variable"
      ],
      "metadata": {
        "colab": {
          "base_uri": "https://localhost:8080/",
          "height": 331
        },
        "id": "h19-NSc7kXZZ",
        "outputId": "39ab1957-ece7-433c-b1a4-94c2a9677da4"
      },
      "execution_count": null,
      "outputs": [
        {
          "output_type": "display_data",
          "data": {
            "text/plain": [
              "<Figure size 560x350 with 1 Axes>"
            ],
            "image/png": "[encoded data removed]"
          },
          "metadata": {}
        }
      ]
    },
    {
      "cell_type": "code",
      "source": [
        "# Drawing 100000 random samples of size = Sample_size from the population, with sampling scheme = simple random sampling with replacement:\n",
        "Sample_size = 50\n",
        "n = 100\n",
        "data = np.empty([n, Sample_size])\n",
        "for i in range(n):\n",
        "  data[i] = np.array((Big_data.sample((50), replace = True))['Movie Length'])  #random sampling from population , with replacement\n",
        "print(data)"
      ],
      "metadata": {
        "id": "iR4IIdl1YiZR",
        "colab": {
          "base_uri": "https://localhost:8080/"
        },
        "outputId": "841f9894-40ed-477d-e767-fba0a44b858a"
      },
      "execution_count": null,
      "outputs": [
        {
          "output_type": "stream",
          "name": "stdout",
          "text": [
            "[[ 96.  98. 121. ... 161. 124. 115.]\n",
            " [177. 118. 158. ... 208. 158. 176.]\n",
            " [157. 162. 238. ... 167. 158. 131.]\n",
            " ...\n",
            " [168. 122. 100. ... 162. 138. 106.]\n",
            " [153.   3. 171. ... 165. 118. 165.]\n",
            " [131. 130. 158. ... 153. 169. 171.]]\n"
          ]
        }
      ]
    },
    {
      "cell_type": "code",
      "source": [
        "# Calculating and storing sample means of these 100000 random samples:\n",
        "Sample_means_collection = np.zeros(n)\n",
        "for i in range(n):\n",
        "  Sample_means_collection[i] = data[i].mean()"
      ],
      "metadata": {
        "id": "ehpZ9RwCZyTe"
      },
      "execution_count": null,
      "outputs": []
    },
    {
      "cell_type": "code",
      "source": [
        "# Calculating the mean and standard deviation of these 100000 sample means:\n",
        "s_mean = Sample_means_collection.mean();\n",
        "s_std = Sample_means_collection.std();\n",
        "print(\"Mean of Sample means: \", s_mean)\n",
        "print(\"Standard deviation of Sample means:\", s_std)"
      ],
      "metadata": {
        "id": "BYGQjd_Vb_dN",
        "colab": {
          "base_uri": "https://localhost:8080/"
        },
        "outputId": "af134576-95a3-4039-ebe6-6d727b0c7a54"
      },
      "execution_count": null,
      "outputs": [
        {
          "output_type": "stream",
          "name": "stdout",
          "text": [
            "Mean of Sample means:  149.4758\n",
            "Standard deviation of Sample means: 4.68192293400906\n"
          ]
        }
      ]
    },
    {
      "cell_type": "code",
      "source": [
        "# Plotting the 100000 sample means:\n",
        "plt.hist(Sample_means_collection)\n",
        "plt.xlabel(\"Sample Means\")\n",
        "plt.ylabel(\"Frequency\")\n",
        "plt.title(\"Distribution of Sample Means\")\n",
        "plt.show()"
      ],
      "metadata": {
        "id": "ijjQl1M3aBnv",
        "colab": {
          "base_uri": "https://localhost:8080/",
          "height": 472
        },
        "outputId": "1b8d61e0-5002-4c63-a3ba-b1cab7e81520"
      },
      "execution_count": null,
      "outputs": [
        {
          "output_type": "display_data",
          "data": {
            "text/plain": [
              "<Figure size 640x480 with 1 Axes>"
            ],
            "image/png": "[encoded data removed]"
          },
          "metadata": {}
        }
      ]
    },
    {
      "cell_type": "markdown",
      "source": [
        "The means of the samples are approximately in normal distribution and assume that they are approximately independently and identically distributed.\n",
        "Hence, Central Limit Theorem can be applied here. As n is greater than 30, we conduct a z-test for hypthesis testing. Three approaches of hypothesis testing have been applied:\n",
        "\n",
        "Method 1: based on p-value\n",
        "\n",
        "Method 2: based on confidence interval\n",
        "\n",
        "Method 3: beased on observed z-score and critical z value"
      ],
      "metadata": {
        "id": "3wlSAQ7ewRNF"
      }
    },
    {
      "cell_type": "markdown",
      "source": [
        "Xi: mean of ith sample, for i = 1, 2, ... 100\n",
        "\n",
        "m : The mean of the means of the samples\n",
        "\n",
        "s : The standard deviation of the sample of sample means\n",
        "\n",
        "n : 100\n",
        "\n",
        "H0 (Null hypothesis): μ' = μ versus Ha (Alternative hypothesis) : μ' ≠ μ.\n",
        "\n",
        "Since n = 100000, it is reasonable to assume that\n",
        "Z = (m − μ)/(s/√n) ∼ N(0, 1), by CLT\n",
        "\n",
        "Under H0, we calculate Z − test value using the information; m = s_mean , s = s_std and n = 100\n",
        "\n",
        "Level of significance: α = 5%\n",
        "\n",
        "This is two tailed test"
      ],
      "metadata": {
        "id": "V04E_npelPkv"
      }
    },
    {
      "cell_type": "code",
      "source": [
        "import scipy.stats as stats"
      ],
      "metadata": {
        "id": "MULy8Xe5uBhD"
      },
      "execution_count": null,
      "outputs": []
    },
    {
      "cell_type": "code",
      "source": [
        "null_hypothesis = \"The sample mean is equal to the population mean.\"\n",
        "alternative_hypothesis = \"The sample mean is significantly different from the population mean.\""
      ],
      "metadata": {
        "id": "KPutQkfnhie_"
      },
      "execution_count": null,
      "outputs": []
    },
    {
      "cell_type": "code",
      "source": [
        "# Method 1: (p-value test)\n",
        "alpha = 0.05\n",
        "\n",
        "# Calculate z-score\n",
        "zobs = (s_mean - mu) / (s_std / np.sqrt(len(Sample_means_collection)))\n",
        "\n",
        "# Calculate p-value\n",
        "p_value = 2 * (1 - stats.norm.cdf(np.abs(zobs)))\n",
        "\n",
        "print(\"observed z-score:\", zobs)\n",
        "print(\"p-value:\", p_value)\n",
        "\n",
        "if(p_value < alpha):\n",
        "    print(\"Reject null hypothesis\")\n",
        "else:\n",
        "    print(\"Fail to reject null hypothesis\")"
      ],
      "metadata": {
        "colab": {
          "base_uri": "https://localhost:8080/"
        },
        "id": "qLZn6vGY4ILz",
        "outputId": "91a85b52-60f5-4d47-c232-26813108ef15"
      },
      "execution_count": null,
      "outputs": [
        {
          "output_type": "stream",
          "name": "stdout",
          "text": [
            "observed z-score: -0.06185899505419714\n",
            "p-value: 0.9506751221344678\n",
            "Fail to reject null hypothesis\n"
          ]
        }
      ]
    },
    {
      "cell_type": "code",
      "source": [
        "# Method 2: (By checking whether the population mean lies in the confidence interval)\n",
        "\n",
        "zcrit = stats.norm.ppf(1 - alpha / 2) # critical value\n",
        "margin_of_error = zcrit * (s_std / np.sqrt(n))\n",
        "\n",
        "# Calculate the confidence interval bounds\n",
        "lower_bound = s_mean - margin_of_error\n",
        "upper_bound = s_mean + margin_of_error\n",
        "\n",
        "# Print the confidence interval\n",
        "print(\"Confidence Interval: [{}, {}]\".format(lower_bound, upper_bound))"
      ],
      "metadata": {
        "colab": {
          "base_uri": "https://localhost:8080/"
        },
        "id": "pDvi6KSgjep6",
        "outputId": "1610bf52-78b4-415c-9408-4f7f5551ad55"
      },
      "execution_count": null,
      "outputs": [
        {
          "output_type": "stream",
          "name": "stdout",
          "text": [
            "Confidence Interval: [147.7978265624172, 149.63697343758278]\n"
          ]
        }
      ]
    },
    {
      "cell_type": "code",
      "source": [
        "if lower_bound <= mu <= upper_bound:\n",
        "  print(\"Fail to reject the null hypothesis\")\n",
        "else:\n",
        "  print(\"Reject the null hypothesis\")"
      ],
      "metadata": {
        "colab": {
          "base_uri": "https://localhost:8080/"
        },
        "id": "owOlwkQ8op3t",
        "outputId": "dab76f0a-07ff-4aa5-856e-13d460d75652"
      },
      "execution_count": null,
      "outputs": [
        {
          "output_type": "stream",
          "name": "stdout",
          "text": [
            "Fail to reject the null hypothesis\n"
          ]
        }
      ]
    },
    {
      "cell_type": "code",
      "source": [
        "# Method 3: (By comparing the observed z score and the critical z value)\n",
        "if zobs < zcrit:\n",
        "    print(\"Fail to reject the null hypothesis\")\n",
        "else:\n",
        "    print(\"Reject null hypothesis\")"
      ],
      "metadata": {
        "colab": {
          "base_uri": "https://localhost:8080/"
        },
        "id": "7sVbLtlt17S-",
        "outputId": "a5598c93-e818-4d3d-bbd6-57c29c2d949d"
      },
      "execution_count": null,
      "outputs": [
        {
          "output_type": "stream",
          "name": "stdout",
          "text": [
            "Fail to reject the null hypothesis\n"
          ]
        }
      ]
    },
    {
      "cell_type": "markdown",
      "source": [
        "In the light of the data and the above analyses, it seems that the means of each sample are not significantly different from the population mean (μ) based on a significance level of 5%."
      ],
      "metadata": {
        "id": "UtlD-E7v8WuU"
      }
    },
    {
      "cell_type": "code",
      "source": [],
      "metadata": {
        "id": "Ke75cUtJs0Nq"
      },
      "execution_count": null,
      "outputs": []
    }
  ]
}