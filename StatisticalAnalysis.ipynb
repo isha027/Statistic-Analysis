{
  "nbformat": 4,
  "nbformat_minor": 0,
  "metadata": {
    "colab": {
      "provenance": [],
      "include_colab_link": true
    },
    "kernelspec": {
      "name": "python3",
      "display_name": "Python 3"
    },
    "language_info": {
      "name": "python"
    }
  },
  "cells": [
    {
      "cell_type": "markdown",
      "metadata": {
        "id": "view-in-github",
        "colab_type": "text"
      },
      "source": [
        "<a href=\"https://colab.research.google.com/github/isha027/Statistic-Analysis/blob/main/StatisticalAnalysis.ipynb\" target=\"_parent\"><img src=\"https://colab.research.google.com/assets/colab-badge.svg\" alt=\"Open In Colab\"/></a>"
      ]
    },
    {
      "cell_type": "markdown",
      "source": [
        "The population data is, in the csv format, with a single column – “Movie Length” (the movie lengths are in minutes).\n",
        "\n",
        "(1) Found the mean and variance of the population data and also, plotted its density plot.\n",
        "\n",
        "(2) n = 100000 random samples of size 30 from the population dataset were generated.\n",
        "\n",
        "Sampling scheme: Simple random sampling with replacement\n",
        "\n",
        "(3) Sample mean of each sample was calculated. 100000 sample means\n",
        "were obtained.\n",
        "\n",
        "(4) Histogram of these 100000 sample means were plotted.\n",
        "\n",
        "(5) Mean and standard deviation of 100000 sample means were\n",
        "calculated.\n",
        "\n",
        "(6) CLT can be applied, hence hypothesis testing was performed using z-test, as n > 25."
      ],
      "metadata": {
        "id": "lDXvlN1wojfZ"
      }
    },
    {
      "cell_type": "code",
      "execution_count": 1,
      "metadata": {
        "id": "dImxIgDxYRoP"
      },
      "outputs": [],
      "source": [
        "import numpy as np\n",
        "import matplotlib.pyplot as plt\n",
        "import pandas as pd\n",
        "import io\n",
        "from google.colab import files"
      ]
    },
    {
      "cell_type": "code",
      "source": [
        "uploaded = files.upload()\n",
        "Big_data = pd.read_csv(io.BytesIO(uploaded['teststat.csv'])) # population data"
      ],
      "metadata": {
        "colab": {
          "base_uri": "https://localhost:8080/",
          "height": 73
        },
        "id": "qHIubb0XYSXG",
        "outputId": "c18ce2b1-e600-44eb-935f-fd468f85ef2d"
      },
      "execution_count": 2,
      "outputs": [
        {
          "output_type": "display_data",
          "data": {
            "text/plain": [
              "<IPython.core.display.HTML object>"
            ],
            "text/html": [
              "\n",
              "     <input type=\"file\" id=\"files-ba836c6c-85fb-4e87-a02c-6e7d3c40d216\" name=\"files[]\" multiple disabled\n",
              "        style=\"border:none\" />\n",
              "     <output id=\"result-ba836c6c-85fb-4e87-a02c-6e7d3c40d216\">\n",
              "      Upload widget is only available when the cell has been executed in the\n",
              "      current browser session. Please rerun this cell to enable.\n",
              "      </output>\n",
              "      <script>// Copyright 2017 Google LLC\n",
              "//\n",
              "// Licensed under the Apache License, Version 2.0 (the \"License\");\n",
              "// you may not use this file except in compliance with the License.\n",
              "// You may obtain a copy of the License at\n",
              "//\n",
              "//      http://www.apache.org/licenses/LICENSE-2.0\n",
              "//\n",
              "// Unless required by applicable law or agreed to in writing, software\n",
              "// distributed under the License is distributed on an \"AS IS\" BASIS,\n",
              "// WITHOUT WARRANTIES OR CONDITIONS OF ANY KIND, either express or implied.\n",
              "// See the License for the specific language governing permissions and\n",
              "// limitations under the License.\n",
              "\n",
              "/**\n",
              " * @fileoverview Helpers for google.colab Python module.\n",
              " */\n",
              "(function(scope) {\n",
              "function span(text, styleAttributes = {}) {\n",
              "  const element = document.createElement('span');\n",
              "  element.textContent = text;\n",
              "  for (const key of Object.keys(styleAttributes)) {\n",
              "    element.style[key] = styleAttributes[key];\n",
              "  }\n",
              "  return element;\n",
              "}\n",
              "\n",
              "// Max number of bytes which will be uploaded at a time.\n",
              "const MAX_PAYLOAD_SIZE = 100 * 1024;\n",
              "\n",
              "function _uploadFiles(inputId, outputId) {\n",
              "  const steps = uploadFilesStep(inputId, outputId);\n",
              "  const outputElement = document.getElementById(outputId);\n",
              "  // Cache steps on the outputElement to make it available for the next call\n",
              "  // to uploadFilesContinue from Python.\n",
              "  outputElement.steps = steps;\n",
              "\n",
              "  return _uploadFilesContinue(outputId);\n",
              "}\n",
              "\n",
              "// This is roughly an async generator (not supported in the browser yet),\n",
              "// where there are multiple asynchronous steps and the Python side is going\n",
              "// to poll for completion of each step.\n",
              "// This uses a Promise to block the python side on completion of each step,\n",
              "// then passes the result of the previous step as the input to the next step.\n",
              "function _uploadFilesContinue(outputId) {\n",
              "  const outputElement = document.getElementById(outputId);\n",
              "  const steps = outputElement.steps;\n",
              "\n",
              "  const next = steps.next(outputElement.lastPromiseValue);\n",
              "  return Promise.resolve(next.value.promise).then((value) => {\n",
              "    // Cache the last promise value to make it available to the next\n",
              "    // step of the generator.\n",
              "    outputElement.lastPromiseValue = value;\n",
              "    return next.value.response;\n",
              "  });\n",
              "}\n",
              "\n",
              "/**\n",
              " * Generator function which is called between each async step of the upload\n",
              " * process.\n",
              " * @param {string} inputId Element ID of the input file picker element.\n",
              " * @param {string} outputId Element ID of the output display.\n",
              " * @return {!Iterable<!Object>} Iterable of next steps.\n",
              " */\n",
              "function* uploadFilesStep(inputId, outputId) {\n",
              "  const inputElement = document.getElementById(inputId);\n",
              "  inputElement.disabled = false;\n",
              "\n",
              "  const outputElement = document.getElementById(outputId);\n",
              "  outputElement.innerHTML = '';\n",
              "\n",
              "  const pickedPromise = new Promise((resolve) => {\n",
              "    inputElement.addEventListener('change', (e) => {\n",
              "      resolve(e.target.files);\n",
              "    });\n",
              "  });\n",
              "\n",
              "  const cancel = document.createElement('button');\n",
              "  inputElement.parentElement.appendChild(cancel);\n",
              "  cancel.textContent = 'Cancel upload';\n",
              "  const cancelPromise = new Promise((resolve) => {\n",
              "    cancel.onclick = () => {\n",
              "      resolve(null);\n",
              "    };\n",
              "  });\n",
              "\n",
              "  // Wait for the user to pick the files.\n",
              "  const files = yield {\n",
              "    promise: Promise.race([pickedPromise, cancelPromise]),\n",
              "    response: {\n",
              "      action: 'starting',\n",
              "    }\n",
              "  };\n",
              "\n",
              "  cancel.remove();\n",
              "\n",
              "  // Disable the input element since further picks are not allowed.\n",
              "  inputElement.disabled = true;\n",
              "\n",
              "  if (!files) {\n",
              "    return {\n",
              "      response: {\n",
              "        action: 'complete',\n",
              "      }\n",
              "    };\n",
              "  }\n",
              "\n",
              "  for (const file of files) {\n",
              "    const li = document.createElement('li');\n",
              "    li.append(span(file.name, {fontWeight: 'bold'}));\n",
              "    li.append(span(\n",
              "        `(${file.type || 'n/a'}) - ${file.size} bytes, ` +\n",
              "        `last modified: ${\n",
              "            file.lastModifiedDate ? file.lastModifiedDate.toLocaleDateString() :\n",
              "                                    'n/a'} - `));\n",
              "    const percent = span('0% done');\n",
              "    li.appendChild(percent);\n",
              "\n",
              "    outputElement.appendChild(li);\n",
              "\n",
              "    const fileDataPromise = new Promise((resolve) => {\n",
              "      const reader = new FileReader();\n",
              "      reader.onload = (e) => {\n",
              "        resolve(e.target.result);\n",
              "      };\n",
              "      reader.readAsArrayBuffer(file);\n",
              "    });\n",
              "    // Wait for the data to be ready.\n",
              "    let fileData = yield {\n",
              "      promise: fileDataPromise,\n",
              "      response: {\n",
              "        action: 'continue',\n",
              "      }\n",
              "    };\n",
              "\n",
              "    // Use a chunked sending to avoid message size limits. See b/62115660.\n",
              "    let position = 0;\n",
              "    do {\n",
              "      const length = Math.min(fileData.byteLength - position, MAX_PAYLOAD_SIZE);\n",
              "      const chunk = new Uint8Array(fileData, position, length);\n",
              "      position += length;\n",
              "\n",
              "      const base64 = btoa(String.fromCharCode.apply(null, chunk));\n",
              "      yield {\n",
              "        response: {\n",
              "          action: 'append',\n",
              "          file: file.name,\n",
              "          data: base64,\n",
              "        },\n",
              "      };\n",
              "\n",
              "      let percentDone = fileData.byteLength === 0 ?\n",
              "          100 :\n",
              "          Math.round((position / fileData.byteLength) * 100);\n",
              "      percent.textContent = `${percentDone}% done`;\n",
              "\n",
              "    } while (position < fileData.byteLength);\n",
              "  }\n",
              "\n",
              "  // All done.\n",
              "  yield {\n",
              "    response: {\n",
              "      action: 'complete',\n",
              "    }\n",
              "  };\n",
              "}\n",
              "\n",
              "scope.google = scope.google || {};\n",
              "scope.google.colab = scope.google.colab || {};\n",
              "scope.google.colab._files = {\n",
              "  _uploadFiles,\n",
              "  _uploadFilesContinue,\n",
              "};\n",
              "})(self);\n",
              "</script> "
            ]
          },
          "metadata": {}
        },
        {
          "output_type": "stream",
          "name": "stdout",
          "text": [
            "Saving teststat.csv to teststat.csv\n"
          ]
        }
      ]
    },
    {
      "cell_type": "code",
      "source": [
        "Big_data.head(210)"
      ],
      "metadata": {
        "id": "uNfp4g1ZYbyO",
        "colab": {
          "base_uri": "https://localhost:8080/",
          "height": 689
        },
        "outputId": "f3096dd9-0432-4f4e-d572-5d97f03a2376"
      },
      "execution_count": 3,
      "outputs": [
        {
          "output_type": "execute_result",
          "data": {
            "text/plain": [
              "     Movie Length\n",
              "0             169\n",
              "1             154\n",
              "2             169\n",
              "3             152\n",
              "4             176\n",
              "..            ...\n",
              "205            92\n",
              "206           140\n",
              "207           149\n",
              "208           104\n",
              "209           171\n",
              "\n",
              "[210 rows x 1 columns]"
            ],
            "text/html": [
              "\n",
              "\n",
              "  <div id=\"df-a225e245-11d1-4d84-880c-4d0735604ec4\">\n",
              "    <div class=\"colab-df-container\">\n",
              "      <div>\n",
              "<style scoped>\n",
              "    .dataframe tbody tr th:only-of-type {\n",
              "        vertical-align: middle;\n",
              "    }\n",
              "\n",
              "    .dataframe tbody tr th {\n",
              "        vertical-align: top;\n",
              "    }\n",
              "\n",
              "    .dataframe thead th {\n",
              "        text-align: right;\n",
              "    }\n",
              "</style>\n",
              "<table border=\"1\" class=\"dataframe\">\n",
              "  <thead>\n",
              "    <tr style=\"text-align: right;\">\n",
              "      <th></th>\n",
              "      <th>Movie Length</th>\n",
              "    </tr>\n",
              "  </thead>\n",
              "  <tbody>\n",
              "    <tr>\n",
              "      <th>0</th>\n",
              "      <td>169</td>\n",
              "    </tr>\n",
              "    <tr>\n",
              "      <th>1</th>\n",
              "      <td>154</td>\n",
              "    </tr>\n",
              "    <tr>\n",
              "      <th>2</th>\n",
              "      <td>169</td>\n",
              "    </tr>\n",
              "    <tr>\n",
              "      <th>3</th>\n",
              "      <td>152</td>\n",
              "    </tr>\n",
              "    <tr>\n",
              "      <th>4</th>\n",
              "      <td>176</td>\n",
              "    </tr>\n",
              "    <tr>\n",
              "      <th>...</th>\n",
              "      <td>...</td>\n",
              "    </tr>\n",
              "    <tr>\n",
              "      <th>205</th>\n",
              "      <td>92</td>\n",
              "    </tr>\n",
              "    <tr>\n",
              "      <th>206</th>\n",
              "      <td>140</td>\n",
              "    </tr>\n",
              "    <tr>\n",
              "      <th>207</th>\n",
              "      <td>149</td>\n",
              "    </tr>\n",
              "    <tr>\n",
              "      <th>208</th>\n",
              "      <td>104</td>\n",
              "    </tr>\n",
              "    <tr>\n",
              "      <th>209</th>\n",
              "      <td>171</td>\n",
              "    </tr>\n",
              "  </tbody>\n",
              "</table>\n",
              "<p>210 rows × 1 columns</p>\n",
              "</div>\n",
              "      <button class=\"colab-df-convert\" onclick=\"convertToInteractive('df-a225e245-11d1-4d84-880c-4d0735604ec4')\"\n",
              "              title=\"Convert this dataframe to an interactive table.\"\n",
              "              style=\"display:none;\">\n",
              "\n",
              "  <svg xmlns=\"http://www.w3.org/2000/svg\" height=\"24px\"viewBox=\"0 0 24 24\"\n",
              "       width=\"24px\">\n",
              "    <path d=\"M0 0h24v24H0V0z\" fill=\"none\"/>\n",
              "    <path d=\"M18.56 5.44l.94 2.06.94-2.06 2.06-.94-2.06-.94-.94-2.06-.94 2.06-2.06.94zm-11 1L8.5 8.5l.94-2.06 2.06-.94-2.06-.94L8.5 2.5l-.94 2.06-2.06.94zm10 10l.94 2.06.94-2.06 2.06-.94-2.06-.94-.94-2.06-.94 2.06-2.06.94z\"/><path d=\"M17.41 7.96l-1.37-1.37c-.4-.4-.92-.59-1.43-.59-.52 0-1.04.2-1.43.59L10.3 9.45l-7.72 7.72c-.78.78-.78 2.05 0 2.83L4 21.41c.39.39.9.59 1.41.59.51 0 1.02-.2 1.41-.59l7.78-7.78 2.81-2.81c.8-.78.8-2.07 0-2.86zM5.41 20L4 18.59l7.72-7.72 1.47 1.35L5.41 20z\"/>\n",
              "  </svg>\n",
              "      </button>\n",
              "\n",
              "\n",
              "\n",
              "    <div id=\"df-ee36a9dc-de9c-434c-91c4-35b5f1993731\">\n",
              "      <button class=\"colab-df-quickchart\" onclick=\"quickchart('df-ee36a9dc-de9c-434c-91c4-35b5f1993731')\"\n",
              "              title=\"Suggest charts.\"\n",
              "              style=\"display:none;\">\n",
              "\n",
              "<svg xmlns=\"http://www.w3.org/2000/svg\" height=\"24px\"viewBox=\"0 0 24 24\"\n",
              "     width=\"24px\">\n",
              "    <g>\n",
              "        <path d=\"M19 3H5c-1.1 0-2 .9-2 2v14c0 1.1.9 2 2 2h14c1.1 0 2-.9 2-2V5c0-1.1-.9-2-2-2zM9 17H7v-7h2v7zm4 0h-2V7h2v10zm4 0h-2v-4h2v4z\"/>\n",
              "    </g>\n",
              "</svg>\n",
              "      </button>\n",
              "    </div>\n",
              "\n",
              "<style>\n",
              "  .colab-df-quickchart {\n",
              "    background-color: #E8F0FE;\n",
              "    border: none;\n",
              "    border-radius: 50%;\n",
              "    cursor: pointer;\n",
              "    display: none;\n",
              "    fill: #1967D2;\n",
              "    height: 32px;\n",
              "    padding: 0 0 0 0;\n",
              "    width: 32px;\n",
              "  }\n",
              "\n",
              "  .colab-df-quickchart:hover {\n",
              "    background-color: #E2EBFA;\n",
              "    box-shadow: 0px 1px 2px rgba(60, 64, 67, 0.3), 0px 1px 3px 1px rgba(60, 64, 67, 0.15);\n",
              "    fill: #174EA6;\n",
              "  }\n",
              "\n",
              "  [theme=dark] .colab-df-quickchart {\n",
              "    background-color: #3B4455;\n",
              "    fill: #D2E3FC;\n",
              "  }\n",
              "\n",
              "  [theme=dark] .colab-df-quickchart:hover {\n",
              "    background-color: #434B5C;\n",
              "    box-shadow: 0px 1px 3px 1px rgba(0, 0, 0, 0.15);\n",
              "    filter: drop-shadow(0px 1px 2px rgba(0, 0, 0, 0.3));\n",
              "    fill: #FFFFFF;\n",
              "  }\n",
              "</style>\n",
              "\n",
              "    <script>\n",
              "      async function quickchart(key) {\n",
              "        const containerElement = document.querySelector('#' + key);\n",
              "        const charts = await google.colab.kernel.invokeFunction(\n",
              "            'suggestCharts', [key], {});\n",
              "      }\n",
              "    </script>\n",
              "\n",
              "      <script>\n",
              "\n",
              "function displayQuickchartButton(domScope) {\n",
              "  let quickchartButtonEl =\n",
              "    domScope.querySelector('#df-ee36a9dc-de9c-434c-91c4-35b5f1993731 button.colab-df-quickchart');\n",
              "  quickchartButtonEl.style.display =\n",
              "    google.colab.kernel.accessAllowed ? 'block' : 'none';\n",
              "}\n",
              "\n",
              "        displayQuickchartButton(document);\n",
              "      </script>\n",
              "      <style>\n",
              "    .colab-df-container {\n",
              "      display:flex;\n",
              "      flex-wrap:wrap;\n",
              "      gap: 12px;\n",
              "    }\n",
              "\n",
              "    .colab-df-convert {\n",
              "      background-color: #E8F0FE;\n",
              "      border: none;\n",
              "      border-radius: 50%;\n",
              "      cursor: pointer;\n",
              "      display: none;\n",
              "      fill: #1967D2;\n",
              "      height: 32px;\n",
              "      padding: 0 0 0 0;\n",
              "      width: 32px;\n",
              "    }\n",
              "\n",
              "    .colab-df-convert:hover {\n",
              "      background-color: #E2EBFA;\n",
              "      box-shadow: 0px 1px 2px rgba(60, 64, 67, 0.3), 0px 1px 3px 1px rgba(60, 64, 67, 0.15);\n",
              "      fill: #174EA6;\n",
              "    }\n",
              "\n",
              "    [theme=dark] .colab-df-convert {\n",
              "      background-color: #3B4455;\n",
              "      fill: #D2E3FC;\n",
              "    }\n",
              "\n",
              "    [theme=dark] .colab-df-convert:hover {\n",
              "      background-color: #434B5C;\n",
              "      box-shadow: 0px 1px 3px 1px rgba(0, 0, 0, 0.15);\n",
              "      filter: drop-shadow(0px 1px 2px rgba(0, 0, 0, 0.3));\n",
              "      fill: #FFFFFF;\n",
              "    }\n",
              "  </style>\n",
              "\n",
              "      <script>\n",
              "        const buttonEl =\n",
              "          document.querySelector('#df-a225e245-11d1-4d84-880c-4d0735604ec4 button.colab-df-convert');\n",
              "        buttonEl.style.display =\n",
              "          google.colab.kernel.accessAllowed ? 'block' : 'none';\n",
              "\n",
              "        async function convertToInteractive(key) {\n",
              "          const element = document.querySelector('#df-a225e245-11d1-4d84-880c-4d0735604ec4');\n",
              "          const dataTable =\n",
              "            await google.colab.kernel.invokeFunction('convertToInteractive',\n",
              "                                                     [key], {});\n",
              "          if (!dataTable) return;\n",
              "\n",
              "          const docLinkHtml = 'Like what you see? Visit the ' +\n",
              "            '<a target=\"_blank\" href=https://colab.research.google.com/notebooks/data_table.ipynb>data table notebook</a>'\n",
              "            + ' to learn more about interactive tables.';\n",
              "          element.innerHTML = '';\n",
              "          dataTable['output_type'] = 'display_data';\n",
              "          await google.colab.output.renderOutput(dataTable, element);\n",
              "          const docLink = document.createElement('div');\n",
              "          docLink.innerHTML = docLinkHtml;\n",
              "          element.appendChild(docLink);\n",
              "        }\n",
              "      </script>\n",
              "    </div>\n",
              "  </div>\n"
            ]
          },
          "metadata": {},
          "execution_count": 3
        },
        {
          "output_type": "display_data",
          "data": {
            "text/plain": [
              "<google.colab._quickchart_helpers.SectionTitle at 0x78f9c5ab1f30>"
            ],
            "text/html": [
              "<h4 class=\"colab-quickchart-section-title\">Values</h4>\n",
              "<style>\n",
              "  .colab-quickchart-section-title {\n",
              "      clear: both;\n",
              "  }\n",
              "</style>"
            ]
          },
          "metadata": {}
        },
        {
          "output_type": "display_data",
          "data": {
            "text/plain": [
              "import numpy as np\n",
              "from google.colab import autoviz\n",
              "df_448976165879816165 = autoviz.get_registered_df('df_448976165879816165')\n",
              "\n",
              "def value_plot(df, y, sort_ascending=False, figsize=(2, 1)):\n",
              "  from matplotlib import pyplot as plt\n",
              "  if sort_ascending:\n",
              "    df = df.sort_values(y).reset_index(drop=True)\n",
              "  _, ax = plt.subplots(figsize=figsize)\n",
              "  df[y].plot(kind='line')\n",
              "  plt.title(y)\n",
              "  ax.spines[['top', 'right',]].set_visible(False)\n",
              "  plt.tight_layout()\n",
              "  return autoviz.MplChart.from_current_mpl_state()\n",
              "\n",
              "chart = value_plot(df_448976165879816165, *['Movie Length'], **{})\n",
              "chart"
            ],
            "text/html": [
              "      <div class=\"colab-quickchart-chart-with-code\" id=\"chart-1fa8572c-5931-45ee-96aa-044afa48d705\">\n",
              "        <img src=\"data:image/png;base64,iVBORw0KGgoAAAANSUhEUgAAAMQAAABgCAYAAABCK92TAAAAOXRFWHRTb2Z0d2FyZQBNYXRwbG90\n",
              "bGliIHZlcnNpb24zLjcuMSwgaHR0cHM6Ly9tYXRwbG90bGliLm9yZy/bCgiHAAAACXBIWXMAAA9h\n",
              "AAAPYQGoP6dpAAAXX0lEQVR4nO2deVhUR7rG34Zmp9ll3xcxiEJEFld0GOKGI15CTIwmiAY1i94s\n",
              "N5pN4sRlMjIYgxl11JgZTJzEJYkjGoMSFaIRGIm4IQgiLSAIAiJC08t3/2hpuummWQSaxvo9Tz9P\n",
              "n6o6VV/VqbeqTp06dThERGAwGAAAHU0bwGAMJpggGAw5mCAYDDmYIBgMOZggGAw5mCAYDDmYIBgM\n",
              "OZggGAw5mCAYDDmYIDRMWVkZTE1NUVJSomlT+pTS0lJwOBzcuHFD06b0CCYIFUyZMgUcDgc7duxQ\n",
              "cG9sbASPx+vTC+3q6ooHDx7A09Oz13G4u7tj165dfWJPb/j4448xceJEjaXflzBBdIKfn5+SIFJT\n",
              "U+Hm5qYhixgDARNEJ8yePRtVVVU4f/68zG3btm1YunSpUti0tDQEBQXB3Nwcw4cPR1JSEiQSCQBg\n",
              "/vz5WLx4sUL4CxcuQF9fH1VVVSqHFkePHkVoaCgsLS3h4+ODzz//vNf5aGlpwfvvvw8vLy9YWlpi\n",
              "8uTJyMvLk/m3te5r166Fg4MDrKyssHTpUohEIlmY7OxsBAcHg8fjYezYsUhOTgaHwwEAfP3119iw\n",
              "YQPOnTsHU1NTmJqaIjMzU3bur7/+ioCAAPB4PISFheHq1au9zsuAQAwlwsPD6YMPPqA1a9ZQXFwc\n",
              "ERFlZmaSq6srFRcXEwAqKioiIqLs7GzS09Ojb7/9loRCIeXm5pKDgwNt3ryZiIhOnjxJpqam1NjY\n",
              "KIt/2bJlNHfuXCIiunnzpkJ8GRkZZG5uTidOnCCxWEyXLl0iZ2dn2rt3b6f2urm50c6dO1X6vfzy\n",
              "yxQREUF8Pp+EQiGlpKTQsGHDqK6ujoiIEhMTicvl0qZNm0ggEND169fJ0tKSvvzySyIiqqurIysr\n",
              "K1q7di0JBAK6du0a+fj4kHzVSUxMpAkTJiik25aviIgIqqiooObmZoqJiaHJkyd39zJoBCYIFbQJ\n",
              "gs/nE4/Ho7q6Opo/fz598sknShU4ISGBoqOjFc5PTk4mX19fIiKSSCTk5eUlq7BNTU1kbm5OaWlp\n",
              "RKQsiNmzZ9Pq1asV4lu3bh1FRER0am9ngqipqSEAVFBQoODu7e1NqampRCStzB4eHgr+zz77LC1b\n",
              "toyIiFJTU8nOzo7EYrHMPyUlpduCOH36tMztyJEjZGRk1Gk+BgNcjXVNWoCzszOmTp2KpKQk/Pjj\n",
              "j0hKSoJAIFAIw+fz4efnp+Dm7e2NsrIyAACHw0F8fDx2796NJUuWYP/+/eDxeJg+fbrKNIuKinDi\n",
              "xAls27ZN5iYWi+Hq6tpj+9uGYaGhoQrura2tuH37tuzY0dFRwd/ExASNjY0AgPLycri4uEBHp310\n",
              "7e7u3m0b5OM2MTFBc3MzRCIRuNzBWfUGp1WDiOXLl2PmzJmIiYmBg4MDSktLFfxdXFxQXFys4FZc\n",
              "XKxQgePi4pCYmIgrV65g165dWLRokUIFk8fe3h4vvPAC1qxZ89i229vbAwDy8/N7JSgAcHJyAp/P\n",
              "h0Qikdl869YthTCd5UUbGTo56SemTZuG9PR0bN68WaV/fHw80tLScPDgQYjFYuTl5WHTpk1ISEiQ\n",
              "hXF0dMSMGTOwatUqnD17FvHx8Z2mt3LlSqSkpODkyZMQiUQQiUS4fPkyzpw5o9ZOkUiElpYWhZ+r\n",
              "qyuio6Px2muvySpxY2Mjjh07hsrKym7lPyoqCq2trdi4cSNaW1tRWFiodJNvb2+PsrIytLS0dCvO\n",
              "wQwTRBdwOBxERETA2dlZpX9oaCgOHDiA9evXw9LSErGxsVixYgVWrlypEG7JkiVIS0tDRESE2iFH\n",
              "dHQ0UlNTsWbNGtja2sLW1hZLlixBTU2NWjuXL18OIyMjhV9xcTG++eYbBAUFITIyEjweD76+vti5\n",
              "cyeom28OW1hY4OjRo/j+++9hZWWF+fPnIz4+HgYGBrIw8+bNg6+vLxwdHWFhYYGsrKxuxT0Y4VB3\n",
              "S4bBeMRnn32Gbdu24fr165o2pc9hPQSjS06ePAk+nw8iQm5uLpKSkvDiiy9q2qx+gd1UM7qkoKAA\n",
              "CxcuRH19PWxtbbFgwQKsWrVK02b1C2zIxGDIwYZMDIYcTBAMhhxMEAyGHEwQDIYcWiGILVu2aNoE\n",
              "xhOCVgii49oZhjLX7zRiwl8y8F0uX9OmaDVaIQhG16w6mI/y+ma8eyBf06ZoNUwQQ4QWoVjTJvQZ\n",
              "Dc1CzPo8E38/NfAbFDBBMAYd/zxbiisV9/HXnwZ+rRQTBGPQ0SqSaCxtJgjGoIOry9FY2j0SREtL\n",
              "C6KjozF8+HAEBAQgMjJS9prilClT4OHhgcDAQAQGBiq8UFNdXY3p06fDx8cH/v7+Xb7swniy4epo\n",
              "ThA9Xu2akJCAGTNmgMPhYOvWrViyZAlOnToFANi8eTOio6OVzlm9ejXCwsLw008/IScnB3PnzsXN\n",
              "mzehp6f3uPYzHtG2LcxQgKvb3k6LxBKF4/6mRykZGhpi5syZssIPCwtTesdYFd999x2WLVsGAAgO\n",
              "DoajoyNOnz7dc2sZTwTyPcTDAZ49eyzpbdmyBXPmzJEdr169GqNGjcK8efNke5XW1tZCKBTKXngH\n",
              "pLs2tO1K0RGBQID79+8r/MTioTOlyOgZi7/KwZnCuwOWXq8FsWHDBty4cQMbN24EIN3msaCgAPn5\n",
              "+Zg0aRKioqJ6Fe/GjRthbm6u8MvOzu6tmYMC/r2H2JVZgoetoq4DMyCQm2XKKa3DS18O3PXvlSCS\n",
              "kpJw6NAhHDt2DMbGxgCk27EA0rHs66+/jpKSEtTW1sLa2hpcLhd37tyRnV9aWtrptijvvfceGhoa\n",
              "FH4hISG9MXPQMHtrFtalXUPyz4WaNkUr0Kpp1+TkZOzbtw/p6emwsLAAIN0CpaqqShbm4MGDsLOz\n",
              "g7W1NQAgNjYW27dvBwDk5OSgvLwc4eHhKuM3MDCAmZmZwk9XV7enZg4q6h8KAQDnSmo1bIl2INCg\n",
              "IHo0y3T79m28/fbb8PT0xNSpUwFIK3BGRgZmzZoFgUAAHR0d2NjY4PDhw7LzPv30UyxcuBA+Pj7Q\n",
              "19fH3r17n8gZJiO9/hO2/BwTEWls1kkiIfx4sRxBrlZwtTbuVRyqeogWoRiG/Vh+bfRIEM7Ozp3u\n",
              "55Obm9vpeXZ2dvj55597ZtkgIauoBv/OKcMnc/xhaaL/WHEZ6Q9MT9cqlsCAq5le9fDFCrz57UXo\n",
              "6+qgcP2Mbp1zq7YJdmaGsgrfqmISpeaBAM6WvRNYT2BPqrtgwe7zOJJfiTWHr/TqfJG4vbVru+AS\n",
              "CWHnmRKclxtCtQjF+N9/5+GrX28+nsEAhGJpo3W5vAE5pfceO76OiCWEzemFOFvcvnnavaZWXC5v\n",
              "kLm1irs37Mm/XY/wTafwyr/aG1RVPUR1o0DJrT8YEoJ4IBChuVX91GxRVSMaHgqRfrUKz2w+jaiU\n",
              "TPzWgzH9eRVhJRLC6oP5SDp+vdOes+7R/QMA6HOlxf3Pc6VYf/Qa5v3jN/xSUI1lqf9F0vHr+OH3\n",
              "Cnz8H+XvJ5wuvIvdWTdBRMgoqMLyvf9FXVNrp7bWNbVixb48RKVkIXb7OdxVU5kK7tzHS19my/J3\n",
              "rfJ+l7Nh35y/hS0nizB/Z/u3MxbuPo+olCxcrbwvc2uLp7lVjBX78rBfxbsah3+vAABkFtVA+EhE\n",
              "KgVxX3mbzMqGZpy6Xt3tXQi7g9buy3St8j5Sf7sFniEXO06XwNvWFMdWTkL61Spc5NdjQZgbXKyM\n",
              "cel2A77L5SP1t1sI9bDC+ZvtLebz//gNNzfOVBhvN7YIoavDwfZTxQh0tZC5VzcKsDWjCLfrmhHq\n",
              "aYUJ3ja4UnEf/86RXmQPGxPEBClud3mzpgnv7L8oO07Lr8RHs1rwQ165zG3RVzlKeROJJWgVS8AB\n",
              "B7frHuLlR9OOo5zMEf+VtCU14Orgs+efbj9H0l6J1qddw09X2mf1zhbXwMnCCPeaWvHMyPbnQQDw\n",
              "xS/FOFN4F2cK72Lbi2Ow/OsLmOFvj+eCXRDsbgVTg/YqQkT4+6libDrevgq1or4ZF8rqcKVCKoTL\n",
              "5e2C4N9rRlOrCP+5WIHDj342PANM9bWVhZEfhmbfvAdbnoHK3uVmzUMAQN6jtPS5Onj/0CWIJIR9\n",
              "r4ThauV9nC+pRUyQM6Z1yGNP0Ip9md566y0kJycruMXtycap650/sNHn6uDlcW7Ymal+CBLgYoF9\n",
              "r4TCWJ+L8vpmRH2eqdCqd5eYMc7423MBsuMWoRjB60+gsUWxtXW1Mga/7iHUlfq0kXY4fqUKLlZG\n",
              "iBrtiG2npLuLh3hYIVtO0JN8bBDiboVp/vZ4ZnP31odteT4QcwKdUH2/BWX3HuKNfXmobJC2vvpc\n",
              "HaXW+dOYUZgXLJ0i/++tOsRsO6uUn7J7D1WmlTjbD2tV9Hi5H/4R1ib64HA4WJ92VekamRlycb9D\n",
              "ucWMcUZS7Gh4vHdUKb7VM0bgUnkD0vIrsSbKD/ETPboohc7R2h5iYZibWkG0iiRdigEALvLrsTvz\n",
              "Jt6I8EHyz4W9EgMA3H0ggFAswc9XqmBnZoD/O5CvJAYAnVYeeY5fkU5h8+81I6uofZwuLwZAOszI\n",
              "LKrB39K7/3xja8YNpF+twpF85d2/VQ1VVh28hFmjHbHmx8s4dKFcyV9dfr74RfULPmPXncA4T2t8\n",
              "80ooah8oD/06igEAblQ3oraTYWJlfTPSHuXHhmegMkx30doeQiwhzPkiS6GLbsNQTwctwvaL62lj\n",
              "gpKaJoUwzpZGWBDmhr8cK8AYVwvMD3XDuwcuQtJFaaS88DTe2Jen5O7nYAZrU31kFqnfpftJRleH\n",
              "A7FcAXsOM0HJ3SY1Z7RjpKeL0c7mCkNeVex7JQzjvKx7baPW3lTr6nBwaPkEXPgoUsnvjT/4YNpI\n",
              "O0zyscH1ddOR8c4U+NiayvyN9XWR9sYkhHpYAQAulNXjnf1SMThbGqlNc9YoB3wS7Y85gYpf3bla\n",
              "eb9PxTBezUV9Wu7eRhNsenY0DLidVx1Hc0PYmCq31NNG2ikcd1cMANAsFHcpBgAY9pg9hNYKApCO\n",
              "ea1M9BUqsZOFEeLGu2PHwrFIXRwqm4+3NzeUhfF3Moe5sR6ecjBTinPTswFKbgAQNdoBB5ePh44O\n",
              "BwvD3PDZvEAcenU8PpsX2LeZesT6uaMUjt+fOQJfLQrG/mXjsCcuWOb+4ayn8NxY5W9X/HnOSAS6\n",
              "WOD4/06GiYrnH7Y8A6yJ8sMEb2t8MPMpmfsIe55Ke+Sf8/3PGGdYGqt+JnN0xSRkvDMFU3yHKbhH\n",
              "+tkhOtBJ5TldwTPo/sh+mAoh9gStFkQbo5zMZf+PvDERJioK0NG8XTSBLhYApM8FEiZ7IsTDCp/M\n",
              "GYmvFgVjnJd0bPvBzKfgYWMiO2fr/DGy8wDpmq0xrpaYNdqhS/s+ifZXcjNVc5FH2PPgbm0MRzkR\n",
              "mxvpYYqvLYLdrWBhrI+PovwwyccGz4e4Yoa/sg0Lw9zww2sT4GvPw9QRtkr+m+cFIn6iB75eojjE\n",
              "+PMcZVsXT/TAgWXjoKvDwbvTfaGrwwHPUNn+xRM94OdoBkM9XUz0tpG5+9rx8Nm8QET62WHv4lBk\n",
              "rZqKlRE+yHi7ffmOoV7nVTHI3bJTv46YGT3ebbHW3lTLs/ZPI2Gsz8VL49w6fZoc8ZQtvn00D942\n",
              "VAKA9+VaxzbGe9lgvJcNDl+s6DJtvW68vDLNzw4f/XBZdjzD3x7HLt9RGXZFhA/iJ7iDw+HA3cYE\n",
              "FY9mgDouW1g80QOLH82mdBye2JkZKEwl/3mOP1ytjDH3aSe8cyAfFfXNGO3c3oj4O5njX/Eh8LY1\n",
              "haOFEdZF++PDR/Z+GTcWfxghHeoUrpuBtlcVTOUEkbo4BK0iCULkyvUZueFR3AR3WSM10UcqlDcj\n",
              "hwMATr4djsYWEV7/5gJu1zWrLJOIp+zUTqDI87hLVoaEIGzNDBWmPFXxhxG28HMwQ22TAKGe3bvp\n",
              "UteKyxMzxhkHL7R/1ZNnwEVMkDO+OlsKALDqINKOldtEXxdNrWLYmBrgrUcVpWP66tbxWBgrrgtL\n",
              "ilUsCysTfbw7fQQA4MCycQCUhTx5ePsQZ0GYGyZ626Co+oFMDID0HqqN63caZf+D3a2U7DPW5+Kv\n",
              "z47G8ct38KcAxfstebyGmcriuF2nOIu19k8j4edoBq9hpgoNShsdp3WDe9CTdMaQEER34Orq4NCr\n",
              "4wGor1zyxI51xrmSWoUbclX87bkALA33xDfny/DqFC/YmBqgUSDC0UuVCHa3AldXB7kf/hEbjxbg\n",
              "+JU7WBnhg9qmVpwpvIvYIGcsDffCB99fwsoIH4V45QWhbmGgk4UR/J3MIBBKsGdRsNo1P93p0QDA\n",
              "3cYE7nJDxo7Y8gxQWvsQdmYGnZbnc2Nd8NxYl26ltybKDxbGeogNckFKRhEuVzTg2SBnWc/yjJ8d\n",
              "sm7UYH6IK3ZlSafTJ8gNy069MwV2ZoYq4+4RA/9p7J7z5ptvaiRdiURCp69XU+0DQa/OF4rEJJFI\n",
              "lNyIiO42ttC+87eoSSDs9PyPfrhEbquOkNuqI3S+pFZtWmKxhERiidowfcmFW/do+d5c4t9r6vO4\n",
              "O5YZEZFAKKYHLUISCMX0xS9FdOl2PRERHbtUSfn8+j5L+4npIXoDh8NRGEr0FFUvx7e52Zga4PkQ\n",
              "9d+OVhwyqW/ZdQZ4p4qnXS3x9xeD+iVuVfcB+lwd2VqwV6d4y9yn+/d+mYYqhsQs01BF/sa1P9+l\n",
              "YLTDBDGI6e5NNaPvYIIYxJjoM0EMNAMmiKKiIowfPx7Dhw9HcHAwrlzp3Qs3TxL6cssjurqHYPQN\n",
              "A1bKS5cuRUJCAgoLC7Fq1SrExcUNVNJai/yGXayHGBgGRBDV1dXIzc3FggULAAAxMTHg8/myfWEZ\n",
              "qpF/ENbd5weMx2NApl35fD4cHBzA5UqT43A4cHV1RVlZGby9vRXCCgQCCASKrzw+qTv3OalZecvo\n",
              "HwZdszMUd+7rLSMdzbF+rr/C6lZG/zIgLwhVV1fD29sb9+7dA5fLBRHBwcEBWVlZ3eohXnrpJXh6\n",
              "eiq4icViZGdnIyQkROs3MusNT3L+e5N3Nzc3rFy5suuAffbMuwvCw8Npz549RES0f/9+CgoKeqz4\n",
              "GhoaCAA1NDT0gXXax5Oc//7M+4At3dixYwfi4uKwYcMGmJmZYc+ePQOVNIPRbQZMEL6+vjh37txA\n",
              "Jcdg9IpBd1PNYGgSrRWEgYEBEhMTYWDweO/QaitPcv77M+9asQ0NgzFQaG0PwWD0B0wQDIYcTBAM\n",
              "hhxaK4ihvJx8xYoVcHeXbkXz+++/y9zV5XmolEdLSwuio6MxfPhwBAQEIDIyUrYItLq6GtOnT4eP\n",
              "jw/8/f1x5kz7Bs/q/HpEnz/qGyCmTp2q8OR77NixmjWoDzl9+jTx+Xxyc3OjvLw8mbu6PA+V8mhu\n",
              "bqa0tDTZRgMpKSkUHh5ORESLFi2ixMREIiLKzs4mJycnam1t7dKvJ2ilIKqqqojH45FQKN2xQiKR\n",
              "kJ2dHRUVFWnYsr5FXhDq8jyUyyMnJ4fc3NyIiMjExIQqKytlfsHBwZSent6lX0/QyiGTuuXkQxV1\n",
              "eR7K5bFlyxbMmTMHtbW1EAqFsLdv32XD3d0dZWVlav16CtuGhjFo2bBhA27cuIGTJ0+iuVn1Npd9\n",
              "jVb2EC4uLqisrIRIJP2wBhGhrKys04/BDwXU5XkolkdSUhIOHTqEY8eOwdjYGNbW1uByubhzp31P\n",
              "3NLSUri6uqr16ylaKQhbW1uMGTMGe/fuBSD9ULyzs7PSuxVDCXV5HmrlkZycjH379iE9PR0WFhYy\n",
              "99jYWGzfvh0AkJOTg/LycoSHh3fp1yMe435HoxQUFFBYWBj5+PhQUFAQ5efna9qkPiMhIYGcnJxI\n",
              "V1eXbG1tycvLi4jU53molAefzycA5OnpSQEBARQQEEAhISFERHTnzh2KjIwkb29v8vPzo4yMDNl5\n",
              "6vx6AlvLxGDIoZVDJgajv2CCYDDkYIJgMORggmAw5GCCYDDkYIJgMORggmAw5GCCYDDkYIJgMORg\n",
              "gmAw5GCCYDDk+H8GdCY1JoJJZAAAAABJRU5ErkJggg==\n",
              "\">\n",
              "        \n",
              "      </div>\n",
              "      <script></script>\n",
              "      <script type=\"text/javascript\">\n",
              "        (() => {\n",
              "          const chartElement = document.getElementById(\"chart-1fa8572c-5931-45ee-96aa-044afa48d705\");\n",
              "          async function getCodeForChartHandler(event) {\n",
              "            const chartCodeResponse =  await google.colab.kernel.invokeFunction(\n",
              "                'getCodeForChart', [\"chart-1fa8572c-5931-45ee-96aa-044afa48d705\"], {});\n",
              "            const responseJson = chartCodeResponse.data['application/json'];\n",
              "            await google.colab.notebook.addCell(responseJson.code, 'code');\n",
              "          }\n",
              "          chartElement.onclick = getCodeForChartHandler;\n",
              "        })();\n",
              "      </script>\n",
              "      <style>\n",
              "        .colab-quickchart-chart-with-code  {\n",
              "            display: block;\n",
              "            float: left;\n",
              "            border: 1px solid transparent;\n",
              "        }\n",
              "\n",
              "        .colab-quickchart-chart-with-code:hover {\n",
              "            cursor: pointer;\n",
              "            border: 1px solid #aaa;\n",
              "        }\n",
              "      </style>"
            ]
          },
          "metadata": {}
        },
        {
          "output_type": "display_data",
          "data": {
            "text/plain": [
              "<google.colab._quickchart_helpers.SectionTitle at 0x78f9c5ab2a10>"
            ],
            "text/html": [
              "<h4 class=\"colab-quickchart-section-title\">Distributions</h4>\n",
              "<style>\n",
              "  .colab-quickchart-section-title {\n",
              "      clear: both;\n",
              "  }\n",
              "</style>"
            ]
          },
          "metadata": {}
        },
        {
          "output_type": "display_data",
          "data": {
            "text/plain": [
              "import numpy as np\n",
              "from google.colab import autoviz\n",
              "df_448976165879816165 = autoviz.get_registered_df('df_448976165879816165')\n",
              "\n",
              "def histogram(df, colname, num_bins=20, figsize=(2, 1)):\n",
              "  from matplotlib import pyplot as plt\n",
              "  _, ax = plt.subplots(figsize=figsize)\n",
              "  plt.hist(df[colname], bins=num_bins, histtype='stepfilled')\n",
              "  plt.ylabel('count')\n",
              "  plt.title(colname)\n",
              "  ax.spines[['top', 'right',]].set_visible(False)\n",
              "  plt.tight_layout()\n",
              "  return autoviz.MplChart.from_current_mpl_state()\n",
              "\n",
              "chart = histogram(df_448976165879816165, *['Movie Length'], **{})\n",
              "chart"
            ],
            "text/html": [
              "      <div class=\"colab-quickchart-chart-with-code\" id=\"chart-4e1210fb-0afd-4b22-9607-193e260d94e2\">\n",
              "        <img src=\"data:image/png;base64,iVBORw0KGgoAAAANSUhEUgAAAMMAAABgCAYAAACg98bqAAAAOXRFWHRTb2Z0d2FyZQBNYXRwbG90\n",
              "bGliIHZlcnNpb24zLjcuMSwgaHR0cHM6Ly9tYXRwbG90bGliLm9yZy/bCgiHAAAACXBIWXMAAA9h\n",
              "AAAPYQGoP6dpAAAN/klEQVR4nO3de1BUdRsH8O8qRgrrsojcWYirQwQUN8XSHLKMNwsjp4lMkBzQ\n",
              "qZHij6gcJdOgSQZR/iBHywKLcbzVTOBMgI54K2CkwUwMKNpNbmJARFx3n/cPlxP7ymUPLXvhfT4z\n",
              "Z8b9/c6e8+zxfN1z1nN+R0JEBMYY5pi6AMbMBYeBMS0OA2NaHAbGtDgMjGlxGBjT4jAwpsVhYEyL\n",
              "w8CYFofBTCiVStja2uKXX34xdSkG1dzcDIlEgsbGRlOXMiUOwyQef/xxSCQSHDx4UKe9t7cXUqnU\n",
              "oH/JCoUCf/31F7y9vae9DC8vLxw+fNgg9UzHe++9h0cffdRk6/+3OAxTCAwMvCcMRUVF8PT0NFFF\n",
              "bKZwGKawdu1atLe34/vvvxfaCgoKkJqaes+8JSUlCAsLg0wmg7+/P3JycqDRaAAACQkJePXVV3Xm\n",
              "v3r1Ku677z60t7ePezhRWlqKqKgoyOVy+Pn54cCBA9P+HAMDA3j33Xfh4+MDuVyOFStWoLa2Vugf\n",
              "/Vd9165dcHFxgb29PVJTUzEyMiLMU1VVhYiICEilUoSHhyM3NxcSiQQA8MUXXyArKwtXrlyBra0t\n",
              "bG1tceHCBeG9ly5dQkhICKRSKZYuXYqffvpp2p9lxhCb0MqVK2n79u20c+dOSkpKIiKiCxcukEKh\n",
              "oKamJgJADQ0NRERUVVVF8+bNo2PHjtHw8DDV1NSQi4sL7du3j4iIKioqyNbWlnp7e4Xlb9myhdat\n",
              "W0dERL/++qvO8s6ePUsymYzKy8tJrVbTtWvXyN3dnY4ePTphvZ6ennTo0KFx+xITEykmJoZUKhUN\n",
              "Dw9Tfn4+LV68mLq6uoiIKDMzk6ysrGjv3r00ODhIN2/eJLlcTp9++ikREXV1dZG9vT3t2rWLBgcH\n",
              "6caNG+Tn50djd6HMzExavny5znpHP1dMTAy1tLRQf38/xcfH04oVK/T9azAaDsMkRsOgUqlIKpVS\n",
              "V1cXJSQk0O7du+/ZeVNSUiguLk7n/bm5uRQQEEBERBqNhnx8fISdta+vj2QyGZWUlBDRvWFYu3Yt\n",
              "vf322zrL27NnD8XExExY70Rh6OzsJABUX1+v0+7r60tFRUVEdHdHfuCBB3T6X3jhBdqyZQsRERUV\n",
              "FZGTkxOp1WqhPz8/X+8wnD9/Xmj75ptvaP78+RN+DlOxMtlXkgVxd3fHqlWrkJOTg6+//ho5OTkY\n",
              "HBzUmUelUiEwMFCnzdfXF0qlEgAgkUiQnJyMTz75BJs3b8bx48chlUqxZs2acdfZ0NCA8vJyFBQU\n",
              "CG1qtRoKhUJ0/aOHXlFRUTrtQ0ND+P3334XXrq6uOv02Njbo7e0FANy6dQseHh6YM+efI2svLy+9\n",
              "axi7bBsbG/T392NkZARWVuazC5pPJWZu69atiI2NRXx8PFxcXNDc3KzT7+HhgaamJp22pqYmnZ03\n",
              "KSkJmZmZuH79Og4fPoxNmzbp7FxjOTs746WXXsLOnTv/de3Ozs4AgLq6ummFCQDc3NygUqmg0WiE\n",
              "mn/77TedeSb6LJbCsqs3oqeeegplZWXYt2/fuP3JyckoKSnByZMnoVarUVtbi7179yIlJUWYx9XV\n",
              "FU8//TQyMjJw+fJlJCcnT7i+tLQ05Ofno6KiAiMjIxgZGcGPP/6IysrKSescGRnBwMCAzqRQKBAX\n",
              "F4fXXntN2IF7e3tx5swZtLa26vX5n3nmGQwNDSE7OxtDQ0P4+eef7zmhd3Z2hlKpxMDAgF7LNDcc\n",
              "Bj1JJBLExMTA3d193P6oqCicOHECH3zwAeRyOdavX49t27YhLS1NZ77NmzejpKQEMTExkx5mxMXF\n",
              "oaioCDt37oSjoyMcHR2xefNmdHZ2Tlrn1q1bMX/+fJ2pqakJX375JcLCwrB69WpIpVIEBATg0KFD\n",
              "ID3v+rWzs0NpaSlOnz4Ne3t7JCQkIDk5GdbW1sI8L774IgICAuDq6go7OztcvHhRr2WbCwnpuzUY\n",
              "+x95eXkoKCjAzZs3TV2KQfA3A9NbRUUFVCoViAg1NTXIycnByy+/bOqyDIZPoJne6uvr8corr6C7\n",
              "uxuOjo7YsGEDMjIyTF2WwfBhEmNafJjEmBaHgTEtDgNjWhwGxrQsMgz79+83dQlsFrLIMPzvNTGM\n",
              "GQL/P4MF8nq7ZNz25g//Y+RKZheL/GZgbCZwGBjTEh2Guro6vdoYszSiw5CUlKRXG3D3TqiAgACE\n",
              "hoYiNDQUx44dA3D3Lq7o6Gj4+/sjIiIC169fF1sGYwan9wl0R0cH2tra0N/fj2vXrgnXwff09KCv\n",
              "r2/C9x07dgyhoaE6bampqUhJSUFSUhJOnDiBpKQkVFdXT+8TzGITnSizmaF3GIqLi5GXl4eWlhY8\n",
              "++yzQrtMJsNbb72l9wo7OjpQU1ODb7/9FgAQHx+P119/HY2NjfD19RVROmOGpXcY0tLSkJaWht27\n",
              "d2PHjh16r2Djxo0gIkRGRuLDDz+ESqWCi4uLcCO4RCKBQqGAUqkcNwyDg4P33HyvVqv1Xj9j+hJ9\n",
              "zrBjxw5oNBq0tLRAqVQK03gqKytRV1eHq1evwsHBAYmJiaILzM7Ohkwm05mqqqpEL4exqYgOw+ef\n",
              "fw47Ozs89NBDCAsLQ1hYGMLDw8edd3Qkhnnz5uGNN97AhQsX4OHhgdbWVmGkNiKCUqmccNSGd955\n",
              "Bz09PTpTZGSk2LIZm5LoMLz//vuorq7GnTt3cPv2bdy+fRsdHR33zNfX14fu7m7hdXFxMR5++GE4\n",
              "OjrikUcewdGjRwEAJ0+ehLu7+4TnC9bW1li4cKHONHfuXLFlMzYl0ZdjODg4ICAgYMr52tvbER8f\n",
              "D7VaDSKCt7c3CgsLAQAHDx5EUlISsrKysHDhQhw5ckR85YwZmOgwxMXFIS8vDwkJCbj//vuF9oUL\n",
              "F+rM5+3trTOw7VgBAQG4cuWK2FUzNqNEh2H79u0AgPT0dEgkEhARJBIJ/8LDLJ7oMIwOsc7YbMMX\n",
              "6jGmJfqbYc6cOcIDKsbiwyRm6USHYXSIcgDo7+9HYWEhB4HNCqIPk2xsbITJwcEB6enpOHHixEzU\n",
              "xphR/etzhvr6+ilHhmbMEog+TJLL5cI5w+glFfn5+Yat6v8IX6ZtPkSH4YcffvjnzVZWcHZ25ssj\n",
              "2KwgOgyenp74+++/hVDI5XIsWLDA0HUxZnSiw3D58mXEx8cLzwlrb2/HyZMnsWzZMoMXx5gxiQ7D\n",
              "6K9Hy5cvB3A3HG+++Sa+++47gxfHmDGJDkN/f78QBACIjo622AfazTaTnYzzAGNTEx0GW1tblJeX\n",
              "44knngBw99FGNjY2Bi9stuFfjcyf6DAcOHAAzz//vPALkkajwalTpwxemKXind5yiQ5DS0sLampq\n",
              "0N7eDgBwcnLie5LZrDCtAQEWL16MoKAgBAUFwcHBQdRoGYyZq399OQbf2MNmC9FhkEqluHz5svD6\n",
              "0qVLkEqlBi2KMVMQfc7w0UcfYd26dViyZAmAu+Omnj59WvSKGxoakJiYiM7OTshkMnz22Wd48MEH\n",
              "RS+HMUMRHYZly5bhxo0bwg390dHRsLOzE71iHm/VuPgBJ1Ob1jmDXC5HbGwsYmNjpxWE0fFWN2zY\n",
              "AODueKsqlQqNjY3TKYcxgzDJY6zEjLfKY60yYzH7Z7plZ2dj165dOm1LlixBenq68FqtVqOqqgqR\n",
              "kZEmv5z8+TF/Nqe6xhpbV3p6hanLEczk9vL09ERaWtqk80ho9EELRtTR0QFfX1/88ccfsLKyAhHB\n",
              "xcUFFy9e1OubwdraGtbW1sLrP//8EzKZDD09PfcMZmZKXJc4pq7LJEPFiBlvdbyxVscGgTFDMdlh\n",
              "Eo+3ysyNycLA460yczMrRtSztrZGZmam2R0+cV3imLouk5xAM2aOZsU3A2OGwGFgTIvDwJjWrAhD\n",
              "Q0MDoqOj4e/vj4iICFy/ft0o6922bRu8vLwgkUh0BlebrB5j1DowMIC4uDj4+/sjJCQEq1evFq77\n",
              "6ujowJo1a+Dn54egoCBUVlYK75usz1CefPJJBAcHIzQ0FI899pjwdCdTbzMAAM0Cq1atoiNHjhAR\n",
              "0fHjxyk8PNwo6z1//jypVCry9PSk2tpaveoxRq39/f1UUlJCGo2GiIjy8/Np5cqVRES0adMmyszM\n",
              "JCKiqqoqcnNzo6GhoSn7DKWrq0v486lTpyg4OJiITL/NiIgsPgzt7e0klUppeHiYiIg0Gg05OTlR\n",
              "Q0OD0WoYG4bJ6jFVrdXV1eTp6UlERDY2NtTa2ir0RUREUFlZ2ZR9M+HIkSMUEhJiNtvM7C/Um4qY\n",
              "K2BNXY9MJjNJrfv378dzzz2HO3fuYHh4WBgNEQC8vLygVCon7TO0jRs34ty5cwCA0tJSs9lms+Kc\n",
              "gU0sKysLjY2NyM7ONnUpgsLCQqhUKuzZswcZGRmmLkdg8WHw8PBAa2urMDw+EUGpVEKhUJhdPcau\n",
              "NScnB6dOncKZM2ewYMECLFq0CFZWVmhraxPmaW5uhkKhmLRvpiQmJuLcuXNwd3c3i21m8WEQcwWs\n",
              "qesxZq25ubkoLi5GWVmZzt2I69evx8cffwwAqK6uxq1bt7By5cop+wyhu7sbLS0twuuvvvoKixYt\n",
              "MpttZvEn0ERE9fX1tHTpUvLz86OwsDCqq6szynpTUlLIzc2N5s6dS46OjuTj4zNlPcaoVaVSEQDy\n",
              "9vamkJAQCgkJocjISCIiamtro9WrV5Ovry8FBgbS2bNnhfdN1mcIzc3NFBERQUFBQRQcHEwxMTHC\n",
              "Dw+m3mZERHxtEmNaFn+YxJihcBgY0+IwMKbFYWBMi8PAmBaHgTEtDgNjWhwGxrQ4DIxpcRgY0+Iw\n",
              "MKb1X5T6NRWgzHQkAAAAAElFTkSuQmCC\n",
              "\">\n",
              "        \n",
              "      </div>\n",
              "      <script></script>\n",
              "      <script type=\"text/javascript\">\n",
              "        (() => {\n",
              "          const chartElement = document.getElementById(\"chart-4e1210fb-0afd-4b22-9607-193e260d94e2\");\n",
              "          async function getCodeForChartHandler(event) {\n",
              "            const chartCodeResponse =  await google.colab.kernel.invokeFunction(\n",
              "                'getCodeForChart', [\"chart-4e1210fb-0afd-4b22-9607-193e260d94e2\"], {});\n",
              "            const responseJson = chartCodeResponse.data['application/json'];\n",
              "            await google.colab.notebook.addCell(responseJson.code, 'code');\n",
              "          }\n",
              "          chartElement.onclick = getCodeForChartHandler;\n",
              "        })();\n",
              "      </script>\n",
              "      <style>\n",
              "        .colab-quickchart-chart-with-code  {\n",
              "            display: block;\n",
              "            float: left;\n",
              "            border: 1px solid transparent;\n",
              "        }\n",
              "\n",
              "        .colab-quickchart-chart-with-code:hover {\n",
              "            cursor: pointer;\n",
              "            border: 1px solid #aaa;\n",
              "        }\n",
              "      </style>"
            ]
          },
          "metadata": {}
        }
      ]
    },
    {
      "cell_type": "code",
      "source": [
        "# Calculating mean (mu) and variance ((sigma)^2) from population data (Big_data):\n",
        "population = np.array(Big_data['Movie Length'])\n",
        "mu = population.mean(); # (μ)\n",
        "var = population.var();\n",
        "print(\"Population Mean:\" , mu) # mu\n",
        "print(\"Population Size :\" , len(population))\n",
        "print(\"Population Variance : \", var) #(sigma)^2\n",
        "print(\"Population Standard deviation :\", population.std())"
      ],
      "metadata": {
        "id": "WGxWUyZKYhHR",
        "colab": {
          "base_uri": "https://localhost:8080/"
        },
        "outputId": "53667cbc-dd69-4a68-acb4-c3e9fbe48a3b"
      },
      "execution_count": 4,
      "outputs": [
        {
          "output_type": "stream",
          "name": "stdout",
          "text": [
            "Population Mean: 149.5047619047619\n",
            "Population Size : 210\n",
            "Population Variance :  1128.3166439909298\n",
            "Population Standard deviation : 33.590424885537395\n"
          ]
        }
      ]
    },
    {
      "cell_type": "code",
      "source": [
        "import seaborn as sns\n",
        "plt.figure(figsize=(8,5), dpi= 70)\n",
        "sns.kdeplot(population, color=\"dodgerblue\")\n",
        "plt.title('Plot of random variable (movie length)', fontsize=10)\n",
        "plt.show();\n",
        "#Density plot is used to show probability density function of a random variable"
      ],
      "metadata": {
        "colab": {
          "base_uri": "https://localhost:8080/",
          "height": 331
        },
        "id": "h19-NSc7kXZZ",
        "outputId": "839b7b62-54ee-4942-ac81-2718a615b73c"
      },
      "execution_count": 28,
      "outputs": [
        {
          "output_type": "display_data",
          "data": {
            "text/plain": [
              "<Figure size 560x350 with 1 Axes>"
            ],
            "image/png": "[encoded data removed]"
          },
          "metadata": {}
        }
      ]
    },
    {
      "cell_type": "code",
      "source": [
        "# Drawing 100000 random samples of size = Sample_size from the population, with sampling scheme = simple random sampling with replacement:\n",
        "Sample_size = 30\n",
        "n = 100000\n",
        "data = np.empty([n, Sample_size])\n",
        "for i in range(n):\n",
        "  data[i] = np.array((Big_data.sample((30), replace = True))['Movie Length'])  #random sampling from population , with replacement\n",
        "print(data)"
      ],
      "metadata": {
        "id": "iR4IIdl1YiZR",
        "colab": {
          "base_uri": "https://localhost:8080/"
        },
        "outputId": "7391e9c5-ea76-4125-b5a7-bfe8da7d1477"
      },
      "execution_count": 29,
      "outputs": [
        {
          "output_type": "stream",
          "name": "stdout",
          "text": [
            "[[168. 146. 161. ... 171. 153. 171.]\n",
            " [171. 132. 165. ... 340. 182. 157.]\n",
            " [ 92. 152. 153. ... 169.  95. 125.]\n",
            " ...\n",
            " [100. 140. 168. ... 165. 138. 182.]\n",
            " [127. 124. 161. ... 150. 149. 147.]\n",
            " [131. 158. 208. ... 131. 157. 163.]]\n"
          ]
        }
      ]
    },
    {
      "cell_type": "code",
      "source": [
        "# Calculating and storing sample means of these 100000 random samples:\n",
        "Sample_means_collection = np.zeros(n)\n",
        "for i in range(n):\n",
        "  Sample_means_collection[i] = data[i].mean()"
      ],
      "metadata": {
        "id": "ehpZ9RwCZyTe"
      },
      "execution_count": 30,
      "outputs": []
    },
    {
      "cell_type": "code",
      "source": [
        "# Calculating the mean and standard deviation of these 100000 sample means:\n",
        "s_mean = Sample_means_collection.mean();\n",
        "s_std = Sample_means_collection.std();\n",
        "print(\"Mean of Sample means: \", s_mean)\n",
        "print(\"Standard deviation of Sample means:\", s_std)"
      ],
      "metadata": {
        "id": "BYGQjd_Vb_dN",
        "colab": {
          "base_uri": "https://localhost:8080/"
        },
        "outputId": "a69836f7-0d9f-4016-ca86-8ae4b230330b"
      },
      "execution_count": 31,
      "outputs": [
        {
          "output_type": "stream",
          "name": "stdout",
          "text": [
            "Mean of Sample means:  149.54546933333333\n",
            "Standard deviation of Sample means: 6.1319486177590665\n"
          ]
        }
      ]
    },
    {
      "cell_type": "code",
      "source": [
        "# Plotting the 100000 sample means:\n",
        "plt.hist(Sample_means_collection)\n",
        "plt.xlabel(\"Sample Means\")\n",
        "plt.ylabel(\"Frequency\")\n",
        "plt.title(\"Distribution of Sample Means\")\n",
        "plt.show()"
      ],
      "metadata": {
        "id": "ijjQl1M3aBnv",
        "colab": {
          "base_uri": "https://localhost:8080/",
          "height": 472
        },
        "outputId": "39c59724-b4c9-4619-d933-63435dfd2d13"
      },
      "execution_count": 32,
      "outputs": [
        {
          "output_type": "display_data",
          "data": {
            "text/plain": [
              "<Figure size 640x480 with 1 Axes>"
            ],
            "image/png": "[encoded data removed]"
          },
          "metadata": {}
        }
      ]
    },
    {
      "cell_type": "markdown",
      "source": [
        "The means of the samples are approximately in normal distribution and assume that they are approximately independently and identically distributed.\n",
        "Hence, Central Limit Theorem can be applied here. As n is greater than 25, we conduct a z-test for hypthesis testing. Three approaches of hypothesis testing have been applied:\n",
        "\n",
        "Method 1: based on p-value\n",
        "\n",
        "Method 2: based on confidence interval\n",
        "\n",
        "MEthod 3: beased on observed z-score and critical z value"
      ],
      "metadata": {
        "id": "3wlSAQ7ewRNF"
      }
    },
    {
      "cell_type": "markdown",
      "source": [
        "Xi: mean of ith sample, for i = 1, 2, ... 100000\n",
        "m : The mean of the means of the samples\n",
        "s : The standard deviation of the sample of sample means\n",
        "n : 100000\n",
        "\n",
        "H0 (Null hypothesis): μ' = μ versus Ha (Alternative hypothesis) : μ' ≠ μ.\n",
        "\n",
        "Since n = 100000, it is reasonable to assume that\n",
        "Z = (m − μ)/(s/√n) ∼ N(0, 1), by CLT\n",
        "\n",
        "Under H0, we calculate Z − test value using the information; m = s_mean , s = s_std and n = 100000\n",
        "\n",
        "Level of significance: α = 5%\n",
        "\n",
        "\n",
        "This is two tailed test"
      ],
      "metadata": {
        "id": "V04E_npelPkv"
      }
    },
    {
      "cell_type": "code",
      "source": [
        "import scipy.stats as stats"
      ],
      "metadata": {
        "id": "MULy8Xe5uBhD"
      },
      "execution_count": 33,
      "outputs": []
    },
    {
      "cell_type": "code",
      "source": [
        "null_hypothesis = \"The sample mean is equal to the population mean.\"\n",
        "alternative_hypothesis = \"The sample mean is significantly different from the population mean.\""
      ],
      "metadata": {
        "id": "KPutQkfnhie_"
      },
      "execution_count": 34,
      "outputs": []
    },
    {
      "cell_type": "code",
      "source": [
        "# Method 1: (p-value test)\n",
        "alpha = 0.05\n",
        "\n",
        "# Calculate z-score\n",
        "zobs = (s_mean - mu) / (s_std / np.sqrt(len(Sample_means_collection)))\n",
        "\n",
        "# Calculate p-value\n",
        "p_value = 2 * (1 - stats.norm.cdf(np.abs(zobs)))\n",
        "\n",
        "print(\"z-score:\", zobs)\n",
        "print(\"p-value:\", p_value)\n",
        "\n",
        "if(p_value < alpha):\n",
        "    print(\"Reject null hypothesis\")\n",
        "else:\n",
        "    print(\"Fail to reject null hypothesis\")"
      ],
      "metadata": {
        "colab": {
          "base_uri": "https://localhost:8080/"
        },
        "id": "qLZn6vGY4ILz",
        "outputId": "02c52ebe-fdd2-42e1-c0bc-9c71a61f9945"
      },
      "execution_count": 35,
      "outputs": [
        {
          "output_type": "stream",
          "name": "stdout",
          "text": [
            "z-score: 2.0993031742232717\n",
            "p-value: 0.035790183799002895\n",
            "Reject null hypothesis\n"
          ]
        }
      ]
    },
    {
      "cell_type": "code",
      "source": [
        "# Method 2: (By checking whether the population mean lies in the confidence interval)\n",
        "\n",
        "zcrit = stats.norm.ppf(1 - alpha / 2) # critical value\n",
        "margin_of_error = zcrit * (s_std / np.sqrt(n))\n",
        "\n",
        "# Calculate the confidence interval bounds\n",
        "lower_bound = s_mean - margin_of_error\n",
        "upper_bound = s_mean + margin_of_error\n",
        "\n",
        "# Print the confidence interval\n",
        "print(\"Confidence Interval: [{}, {}]\".format(lower_bound, upper_bound))"
      ],
      "metadata": {
        "colab": {
          "base_uri": "https://localhost:8080/"
        },
        "id": "pDvi6KSgjep6",
        "outputId": "e3d0621d-ca70-417c-f61b-c88bf12816b8"
      },
      "execution_count": 36,
      "outputs": [
        {
          "output_type": "stream",
          "name": "stdout",
          "text": [
            "Confidence Interval: [149.507463820417, 149.58347484624966]\n"
          ]
        }
      ]
    },
    {
      "cell_type": "code",
      "source": [
        "if lower_bound <= mu <= upper_bound:\n",
        "  print(\"Fail to reject the null hypothesis\")\n",
        "else:\n",
        "  print(\"Reject the null hypothesis\")"
      ],
      "metadata": {
        "colab": {
          "base_uri": "https://localhost:8080/"
        },
        "id": "owOlwkQ8op3t",
        "outputId": "2529add2-378a-4efb-f0ec-45dba2f2893d"
      },
      "execution_count": 37,
      "outputs": [
        {
          "output_type": "stream",
          "name": "stdout",
          "text": [
            "Reject the null hypothesis\n"
          ]
        }
      ]
    },
    {
      "cell_type": "code",
      "source": [
        "# Method 3: (By comparing the observed z score and the critical z value)\n",
        "if zobs < zcrit:\n",
        "    print(\"Fail to reject the null hypothesis\")\n",
        "else:\n",
        "    print(\"Reject null hypothesis\")"
      ],
      "metadata": {
        "colab": {
          "base_uri": "https://localhost:8080/"
        },
        "id": "7sVbLtlt17S-",
        "outputId": "55710a53-85ef-4149-baf2-0cee029dfbaa"
      },
      "execution_count": 38,
      "outputs": [
        {
          "output_type": "stream",
          "name": "stdout",
          "text": [
            "Reject null hypothesis\n"
          ]
        }
      ]
    },
    {
      "cell_type": "markdown",
      "source": [
        "In the light of the data, it seems that the means of each sample are not significantly different from the population mean (μ) based on a significance level of 5%."
      ],
      "metadata": {
        "id": "UtlD-E7v8WuU"
      }
    },
    {
      "cell_type": "code",
      "source": [],
      "metadata": {
        "id": "Ke75cUtJs0Nq"
      },
      "execution_count": null,
      "outputs": []
    }
  ]
}